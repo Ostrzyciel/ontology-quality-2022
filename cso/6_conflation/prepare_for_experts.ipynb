{
 "cells": [
  {
   "cell_type": "code",
   "execution_count": 1,
   "metadata": {
    "collapsed": true
   },
   "outputs": [],
   "source": [
    "import numpy as np\n",
    "import pandas as pd"
   ]
  },
  {
   "cell_type": "code",
   "execution_count": 2,
   "outputs": [],
   "source": [
    "df = pd.read_csv('results/final_suspects.csv')"
   ],
   "metadata": {
    "collapsed": false,
    "pycharm": {
     "name": "#%%\n"
    }
   }
  },
  {
   "cell_type": "code",
   "execution_count": 3,
   "outputs": [],
   "source": [
    "clusters = df['cluster'].unique()"
   ],
   "metadata": {
    "collapsed": false,
    "pycharm": {
     "name": "#%%\n"
    }
   }
  },
  {
   "cell_type": "code",
   "execution_count": 4,
   "outputs": [],
   "source": [
    "reviewers = [1, 2, 3]\n",
    "\n",
    "for reviewer in reviewers:\n",
    "    rng = np.random.default_rng(reviewer)\n",
    "    r_clusters = clusters.copy()\n",
    "    rng.shuffle(r_clusters)\n",
    "\n",
    "    with open(f'to_review/r{reviewer}.csv', 'wt') as file:\n",
    "        for cluster in r_clusters:\n",
    "            rows = df[df.cluster == cluster].sort_values('is_main_label', ascending=False)\n",
    "            for _, r in rows.iterrows():\n",
    "                file.write(f'\"{r[\"cluster\"]}\",\"{r[\"label\"]}\",\"{r[\"is_main_label\"]}\"\\n')\n",
    "            # Summary line\n",
    "            file.write('\"\",\"\",\"Overall\"\\n')\n",
    "            # Empty separator line\n",
    "            file.write('\"\",\"\",\"\"\\n')"
   ],
   "metadata": {
    "collapsed": false,
    "pycharm": {
     "name": "#%%\n"
    }
   }
  }
 ],
 "metadata": {
  "kernelspec": {
   "display_name": "Python 3",
   "language": "python",
   "name": "python3"
  },
  "language_info": {
   "codemirror_mode": {
    "name": "ipython",
    "version": 2
   },
   "file_extension": ".py",
   "mimetype": "text/x-python",
   "name": "python",
   "nbconvert_exporter": "python",
   "pygments_lexer": "ipython2",
   "version": "2.7.6"
  }
 },
 "nbformat": 4,
 "nbformat_minor": 0
}