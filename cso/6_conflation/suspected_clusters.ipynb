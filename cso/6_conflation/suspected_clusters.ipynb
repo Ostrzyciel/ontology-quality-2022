{
 "cells": [
  {
   "cell_type": "code",
   "execution_count": 1,
   "metadata": {
    "collapsed": true
   },
   "outputs": [],
   "source": [
    "import pandas as pd\n",
    "import numpy as np"
   ]
  },
  {
   "cell_type": "code",
   "execution_count": 2,
   "outputs": [],
   "source": [
    "(clusters, clusters_sim, is_main_label, uri_to_label) = pd.read_pickle('temp/clusters.pkl.bz2')"
   ],
   "metadata": {
    "collapsed": false,
    "pycharm": {
     "name": "#%%\n"
    }
   }
  },
  {
   "cell_type": "code",
   "execution_count": 3,
   "outputs": [
    {
     "name": "stderr",
     "output_type": "stream",
     "text": [
      "/home/piotr/anaconda3/envs/iccs2022_clean/lib/python3.9/site-packages/numpy/core/_methods.py:264: RuntimeWarning: Degrees of freedom <= 0 for slice\n",
      "  ret = _var(a, axis=axis, dtype=dtype, out=out, ddof=ddof,\n",
      "/home/piotr/anaconda3/envs/iccs2022_clean/lib/python3.9/site-packages/numpy/core/_methods.py:222: RuntimeWarning: invalid value encountered in true_divide\n",
      "  arrmean = um.true_divide(arrmean, div, out=arrmean, casting='unsafe',\n",
      "/home/piotr/anaconda3/envs/iccs2022_clean/lib/python3.9/site-packages/numpy/core/_methods.py:256: RuntimeWarning: invalid value encountered in true_divide\n",
      "  ret = ret.dtype.type(ret / rcount)\n",
      "/tmp/ipykernel_11300/2612995492.py:6: RuntimeWarning: Mean of empty slice.\n",
      "  rows.append((c, i, clusters[c][i], v.std(), v.mean(), np.median(v)))\n",
      "/home/piotr/anaconda3/envs/iccs2022_clean/lib/python3.9/site-packages/numpy/core/_methods.py:189: RuntimeWarning: invalid value encountered in true_divide\n",
      "  ret = ret.dtype.type(ret / rcount)\n",
      "/home/piotr/anaconda3/envs/iccs2022_clean/lib/python3.9/site-packages/numpy/core/fromnumeric.py:3474: RuntimeWarning: Mean of empty slice.\n",
      "  return _methods._mean(a, axis=axis, dtype=dtype,\n"
     ]
    }
   ],
   "source": [
    "rows = []\n",
    "\n",
    "for c in range(len(clusters)):\n",
    "    for i in range(len(clusters[c])):\n",
    "        v = np.delete(clusters_sim[c][i], i)\n",
    "        rows.append((c, i, clusters[c][i], v.std(), v.mean(), np.median(v)))"
   ],
   "metadata": {
    "collapsed": false,
    "pycharm": {
     "name": "#%%\n"
    }
   }
  },
  {
   "cell_type": "code",
   "execution_count": 4,
   "outputs": [],
   "source": [
    "df_main = pd.DataFrame.from_dict(is_main_label, orient='index', columns=['is_main_label'])\n",
    "df_label = pd.DataFrame.from_dict(uri_to_label, orient='index', columns=['label'])"
   ],
   "metadata": {
    "collapsed": false,
    "pycharm": {
     "name": "#%%\n"
    }
   }
  },
  {
   "cell_type": "code",
   "execution_count": 5,
   "outputs": [],
   "source": [
    "df = pd.DataFrame(rows, columns=['cluster', 'i', 'uri', 'std', 'mean', 'median']).set_index('uri')\n",
    "df = df.join(df_main).join(df_label)"
   ],
   "metadata": {
    "collapsed": false,
    "pycharm": {
     "name": "#%%\n"
    }
   }
  },
  {
   "cell_type": "code",
   "execution_count": 6,
   "outputs": [],
   "source": [
    "grouped = df[['cluster', 'i', 'mean', 'std']].groupby('cluster').agg({\n",
    "    'i': 'count',\n",
    "    'mean': 'mean',\n",
    "    'std': 'mean',\n",
    "})\n",
    "grouped['score'] = grouped['mean'] + 2 * grouped['std']"
   ],
   "metadata": {
    "collapsed": false,
    "pycharm": {
     "name": "#%%\n"
    }
   }
  },
  {
   "cell_type": "code",
   "execution_count": 7,
   "outputs": [],
   "source": [
    "sus1 = grouped[grouped.i > 3].sort_values(by='score')[:100]\n",
    "sus1_g = df.join(sus1, on='cluster', rsuffix='_agg', how='right')"
   ],
   "metadata": {
    "collapsed": false,
    "pycharm": {
     "name": "#%%\n"
    }
   }
  },
  {
   "cell_type": "code",
   "execution_count": 8,
   "outputs": [],
   "source": [
    "sus2 = grouped[grouped.i == 3].sort_values(by='score')[:15]\n",
    "sus2_g = df.join(sus2, on='cluster', rsuffix='_agg', how='right')"
   ],
   "metadata": {
    "collapsed": false,
    "pycharm": {
     "name": "#%%\n"
    }
   }
  },
  {
   "cell_type": "code",
   "execution_count": 9,
   "outputs": [],
   "source": [
    "final_suspects = sus1_g.append(sus2_g)\n",
    "final_suspects.to_csv('results/final_suspects.csv')"
   ],
   "metadata": {
    "collapsed": false,
    "pycharm": {
     "name": "#%%\n"
    }
   }
  }
 ],
 "metadata": {
  "kernelspec": {
   "display_name": "Python 3",
   "language": "python",
   "name": "python3"
  },
  "language_info": {
   "codemirror_mode": {
    "name": "ipython",
    "version": 2
   },
   "file_extension": ".py",
   "mimetype": "text/x-python",
   "name": "python",
   "nbconvert_exporter": "python",
   "pygments_lexer": "ipython2",
   "version": "2.7.6"
  }
 },
 "nbformat": 4,
 "nbformat_minor": 0
}