{
 "cells": [
  {
   "cell_type": "code",
   "execution_count": 1,
   "metadata": {
    "collapsed": true
   },
   "outputs": [],
   "source": [
    "import pandas as pd\n",
    "import numpy as np"
   ]
  },
  {
   "cell_type": "code",
   "execution_count": 2,
   "outputs": [],
   "source": [
    "raw_data = pd.read_csv('results/clusters.tsv', sep='\\t')"
   ],
   "metadata": {
    "collapsed": false,
    "pycharm": {
     "name": "#%%\n"
    }
   }
  },
  {
   "cell_type": "code",
   "execution_count": 3,
   "outputs": [],
   "source": [
    "uri_to_cluster = dict()\n",
    "clusters = []\n",
    "is_main_label = dict()\n",
    "uri_to_label = dict()\n",
    "\n",
    "for _, r in raw_data.iterrows():\n",
    "    s = r['a']\n",
    "    o = r['b']\n",
    "\n",
    "    uri_to_label[s] = r['label']\n",
    "\n",
    "    if 'preferential' in r['prop']:\n",
    "        is_main_label[o] = True\n",
    "    elif o not in is_main_label:\n",
    "        is_main_label[o] = False\n",
    "\n",
    "    cluster_no = uri_to_cluster.get(s, None)\n",
    "    if cluster_no is None:\n",
    "        cluster_no = uri_to_cluster.get(o, None)\n",
    "\n",
    "    if cluster_no is None:\n",
    "        uri_to_cluster[s] = len(clusters)\n",
    "        uri_to_cluster[o] = len(clusters)\n",
    "        clusters.append({s, o})\n",
    "    else:\n",
    "        uri_to_cluster[s] = cluster_no\n",
    "        uri_to_cluster[o] = cluster_no\n",
    "        clusters[cluster_no].add(s)\n",
    "        clusters[cluster_no].add(o)"
   ],
   "metadata": {
    "collapsed": false,
    "pycharm": {
     "name": "#%%\n"
    }
   }
  },
  {
   "cell_type": "code",
   "execution_count": 4,
   "outputs": [],
   "source": [
    "pd.to_pickle((\n",
    "    clusters, uri_to_cluster, is_main_label, uri_to_label\n",
    "), 'temp/cluster_data.pkl.bz2')"
   ],
   "metadata": {
    "collapsed": false,
    "pycharm": {
     "name": "#%%\n"
    }
   }
  },
  {
   "cell_type": "code",
   "execution_count": 5,
   "outputs": [],
   "source": [
    "topics = pd.read_pickle('temp/topics.pkl.bz2')"
   ],
   "metadata": {
    "collapsed": false,
    "pycharm": {
     "name": "#%%\n"
    }
   }
  },
  {
   "cell_type": "code",
   "execution_count": 6,
   "outputs": [],
   "source": [
    "clusters_sim = []\n",
    "clusters_seq = []\n",
    "\n",
    "for cluster in clusters:\n",
    "    seq = list(cluster)\n",
    "    clusters_seq.append(seq)\n",
    "\n",
    "    arr = np.vstack(topics['encoding'].loc[cluster])\n",
    "    clusters_sim.append(arr.dot(arr.T))"
   ],
   "metadata": {
    "collapsed": false,
    "pycharm": {
     "name": "#%%\n"
    }
   }
  },
  {
   "cell_type": "code",
   "execution_count": 7,
   "outputs": [],
   "source": [
    "pd.to_pickle((\n",
    "    clusters_seq, clusters_sim, is_main_label, uri_to_label\n",
    "), 'temp/clusters.pkl.bz2')"
   ],
   "metadata": {
    "collapsed": false,
    "pycharm": {
     "name": "#%%"
    }
   }
  }
 ],
 "metadata": {
  "kernelspec": {
   "display_name": "Python 3",
   "language": "python",
   "name": "python3"
  },
  "language_info": {
   "codemirror_mode": {
    "name": "ipython",
    "version": 2
   },
   "file_extension": ".py",
   "mimetype": "text/x-python",
   "name": "python",
   "nbconvert_exporter": "python",
   "pygments_lexer": "ipython2",
   "version": "2.7.6"
  }
 },
 "nbformat": 4,
 "nbformat_minor": 0
}