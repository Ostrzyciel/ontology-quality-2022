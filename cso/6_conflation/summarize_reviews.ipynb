{
 "cells": [
  {
   "cell_type": "code",
   "execution_count": 1,
   "metadata": {
    "collapsed": true
   },
   "outputs": [],
   "source": [
    "import pandas as pd\n",
    "import numpy as np"
   ]
  },
  {
   "cell_type": "code",
   "execution_count": 2,
   "outputs": [],
   "source": [
    "cluster_reviews = dict()\n",
    "entity_reviews = dict()\n",
    "\n",
    "for i in range(1, 4):\n",
    "    with open(f'review_results/reviewer_{i}.tsv') as fp:\n",
    "        cluster = None\n",
    "        while True:\n",
    "            l = fp.readline()\n",
    "            if l == '':\n",
    "                break\n",
    "            fields = l.rstrip().split('\\t')\n",
    "            if len(fields) < 4:\n",
    "                continue\n",
    "\n",
    "            review_object = { 'verdict': fields[3] }\n",
    "            if len(fields) > 4 and fields[4] != '':\n",
    "                review_object['comment'] = fields[4]\n",
    "\n",
    "            if fields[2] == 'Overall':\n",
    "                if cluster not in cluster_reviews:\n",
    "                    cluster_reviews[cluster] = dict()\n",
    "\n",
    "                cluster_reviews[cluster][i] = review_object\n",
    "            else:\n",
    "                cluster = int(fields[0])\n",
    "\n",
    "                if cluster not in entity_reviews:\n",
    "                    entity_reviews[cluster] = dict()\n",
    "\n",
    "                ent = fields[1]\n",
    "                if ent not in entity_reviews[cluster]:\n",
    "                    entity_reviews[cluster][ent] = dict()\n",
    "\n",
    "                entity_reviews[cluster][ent][i] = review_object"
   ],
   "metadata": {
    "collapsed": false,
    "pycharm": {
     "name": "#%%\n"
    }
   }
  },
  {
   "cell_type": "code",
   "execution_count": 3,
   "outputs": [],
   "source": [
    "cluster_reviews_flat = {\n",
    "    cluster: {\n",
    "        f'{field}_{reviewer}': value\n",
    "        for reviewer, v_reviewer in v_cluster.items()\n",
    "        for field, value in v_reviewer.items()\n",
    "    }\n",
    "    for cluster, v_cluster in cluster_reviews.items()\n",
    "}"
   ],
   "metadata": {
    "collapsed": false,
    "pycharm": {
     "name": "#%%\n"
    }
   }
  },
  {
   "cell_type": "code",
   "execution_count": 4,
   "outputs": [],
   "source": [
    "df_clusters = pd.DataFrame.from_dict(cluster_reviews_flat, orient='index')"
   ],
   "metadata": {
    "collapsed": false,
    "pycharm": {
     "name": "#%%\n"
    }
   }
  },
  {
   "cell_type": "code",
   "execution_count": 5,
   "outputs": [],
   "source": [
    "verdict_map = {\n",
    "    'definitely wrong': -2,\n",
    "    'probably wrong': -1,\n",
    "    'not sure': 0,\n",
    "    'probably good': 1,\n",
    "    'definitely good': 2,\n",
    "}\n",
    "df_clusters['verdict_1'] = df_clusters['verdict_1'].apply(lambda x: verdict_map[x])\n",
    "df_clusters['verdict_2'] = df_clusters['verdict_2'].apply(lambda x: verdict_map[x])\n",
    "df_clusters['verdict_3'] = df_clusters['verdict_3'].apply(lambda x: verdict_map[x])"
   ],
   "metadata": {
    "collapsed": false,
    "pycharm": {
     "name": "#%%\n"
    }
   }
  },
  {
   "cell_type": "code",
   "execution_count": 6,
   "outputs": [
    {
     "data": {
      "text/plain": "      verdict_1  verdict_2  verdict_3\nmean  -1.156522  -0.852174  -0.130435\nstd    1.598197   1.666194   1.789451",
      "text/html": "<div>\n<style scoped>\n    .dataframe tbody tr th:only-of-type {\n        vertical-align: middle;\n    }\n\n    .dataframe tbody tr th {\n        vertical-align: top;\n    }\n\n    .dataframe thead th {\n        text-align: right;\n    }\n</style>\n<table border=\"1\" class=\"dataframe\">\n  <thead>\n    <tr style=\"text-align: right;\">\n      <th></th>\n      <th>verdict_1</th>\n      <th>verdict_2</th>\n      <th>verdict_3</th>\n    </tr>\n  </thead>\n  <tbody>\n    <tr>\n      <th>mean</th>\n      <td>-1.156522</td>\n      <td>-0.852174</td>\n      <td>-0.130435</td>\n    </tr>\n    <tr>\n      <th>std</th>\n      <td>1.598197</td>\n      <td>1.666194</td>\n      <td>1.789451</td>\n    </tr>\n  </tbody>\n</table>\n</div>"
     },
     "execution_count": 6,
     "metadata": {},
     "output_type": "execute_result"
    }
   ],
   "source": [
    "reviewer_stats = df_clusters.agg(['mean', np.std])\n",
    "reviewer_stats"
   ],
   "metadata": {
    "collapsed": false,
    "pycharm": {
     "name": "#%%\n"
    }
   }
  },
  {
   "cell_type": "code",
   "execution_count": 7,
   "outputs": [],
   "source": [
    "def summarize_verdicts(s):\n",
    "    neg, pos = len(s[s < 0]), len(s[s > 0])\n",
    "    return \\\n",
    "        neg, \\\n",
    "        pos, \\\n",
    "        neg > 0, \\\n",
    "        neg > pos, \\\n",
    "        neg == 3 or (neg == 2 and pos == 0)\n",
    "\n",
    "df_clusters['wrong_count'], \\\n",
    "df_clusters['good_count'], \\\n",
    "df_clusters['is_wrong_one'],\\\n",
    "df_clusters['is_wrong_majority'],\\\n",
    "df_clusters['is_wrong_all'], = \\\n",
    "    zip(*df_clusters[['verdict_1', 'verdict_2', 'verdict_3']].apply(summarize_verdicts, axis=1))"
   ],
   "metadata": {
    "collapsed": false,
    "pycharm": {
     "name": "#%%\n"
    }
   }
  },
  {
   "cell_type": "markdown",
   "source": [
    "Export results"
   ],
   "metadata": {
    "collapsed": false,
    "pycharm": {
     "name": "#%% md\n"
    }
   }
  },
  {
   "cell_type": "code",
   "execution_count": 8,
   "outputs": [],
   "source": [
    "df_clusters.to_csv('results/cluster_reviews.csv', index_label='cluster')"
   ],
   "metadata": {
    "collapsed": false,
    "pycharm": {
     "name": "#%%\n"
    }
   }
  },
  {
   "cell_type": "code",
   "execution_count": 9,
   "outputs": [
    {
     "data": {
      "text/plain": "95"
     },
     "execution_count": 9,
     "metadata": {},
     "output_type": "execute_result"
    }
   ],
   "source": [
    "len(df_clusters[df_clusters.is_wrong_one])"
   ],
   "metadata": {
    "collapsed": false,
    "pycharm": {
     "name": "#%%\n"
    }
   }
  },
  {
   "cell_type": "code",
   "execution_count": 10,
   "outputs": [
    {
     "data": {
      "text/plain": "84"
     },
     "execution_count": 10,
     "metadata": {},
     "output_type": "execute_result"
    }
   ],
   "source": [
    "len(df_clusters[df_clusters.is_wrong_majority])"
   ],
   "metadata": {
    "collapsed": false,
    "pycharm": {
     "name": "#%%\n"
    }
   }
  },
  {
   "cell_type": "code",
   "execution_count": 11,
   "outputs": [
    {
     "data": {
      "text/plain": "58"
     },
     "execution_count": 11,
     "metadata": {},
     "output_type": "execute_result"
    }
   ],
   "source": [
    "len(df_clusters[df_clusters.is_wrong_all])"
   ],
   "metadata": {
    "collapsed": false,
    "pycharm": {
     "name": "#%%\n"
    }
   }
  },
  {
   "cell_type": "markdown",
   "source": [
    "Calculate Fleiss' kappa"
   ],
   "metadata": {
    "collapsed": false,
    "pycharm": {
     "name": "#%% md\n"
    }
   }
  },
  {
   "cell_type": "code",
   "execution_count": 12,
   "outputs": [
    {
     "data": {
      "text/plain": "0.5012892639474916"
     },
     "execution_count": 12,
     "metadata": {},
     "output_type": "execute_result"
    }
   ],
   "source": [
    "raters = 3\n",
    "categories = 2\n",
    "samples = len(df_clusters)\n",
    "\n",
    "p_wrong = df_clusters.wrong_count.sum() / (samples * raters)\n",
    "p_good = df_clusters.good_count.sum() / (samples * raters)\n",
    "P_e = p_wrong ** 2 + p_good ** 2\n",
    "\n",
    "P = df_clusters.wrong_count.to_numpy() ** 2 + df_clusters.good_count.to_numpy() ** 2 - raters\n",
    "P = P / (raters * (raters - 1))\n",
    "\n",
    "kappa = (P.mean() - P_e) / (1 - P_e)\n",
    "kappa"
   ],
   "metadata": {
    "collapsed": false,
    "pycharm": {
     "name": "#%%\n"
    }
   }
  },
  {
   "cell_type": "markdown",
   "source": [
    "Calculate Krippendorff's alpha"
   ],
   "metadata": {
    "collapsed": false,
    "pycharm": {
     "name": "#%% md\n"
    }
   }
  },
  {
   "cell_type": "code",
   "execution_count": 13,
   "outputs": [],
   "source": [
    "import krippendorff"
   ],
   "metadata": {
    "collapsed": false,
    "pycharm": {
     "name": "#%%\n"
    }
   }
  },
  {
   "cell_type": "code",
   "execution_count": 14,
   "outputs": [
    {
     "data": {
      "text/plain": "0.4743675352909382"
     },
     "execution_count": 14,
     "metadata": {},
     "output_type": "execute_result"
    }
   ],
   "source": [
    "rel_matrix = df_clusters[['verdict_1', 'verdict_2', 'verdict_3']].to_numpy().T\n",
    "krippendorff.alpha(\n",
    "    reliability_data=rel_matrix,\n",
    "    value_domain=(-2, -1, 1, 2),\n",
    "    level_of_measurement='ordinal',\n",
    ")"
   ],
   "metadata": {
    "collapsed": false,
    "pycharm": {
     "name": "#%%\n"
    }
   }
  }
 ],
 "metadata": {
  "kernelspec": {
   "display_name": "Python 3",
   "language": "python",
   "name": "python3"
  },
  "language_info": {
   "codemirror_mode": {
    "name": "ipython",
    "version": 2
   },
   "file_extension": ".py",
   "mimetype": "text/x-python",
   "name": "python",
   "nbconvert_exporter": "python",
   "pygments_lexer": "ipython2",
   "version": "2.7.6"
  }
 },
 "nbformat": 4,
 "nbformat_minor": 0
}