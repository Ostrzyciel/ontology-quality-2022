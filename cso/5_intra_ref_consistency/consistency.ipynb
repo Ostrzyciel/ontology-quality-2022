{
 "cells": [
  {
   "cell_type": "code",
   "execution_count": 1,
   "metadata": {
    "collapsed": true
   },
   "outputs": [],
   "source": [
    "import pandas as pd\n",
    "import numpy as np\n",
    "\n",
    "import json"
   ]
  },
  {
   "cell_type": "code",
   "execution_count": 2,
   "outputs": [],
   "source": [
    "pairs = pd.read_csv('related_eq.tsv', sep='\\t')"
   ],
   "metadata": {
    "collapsed": false,
    "pycharm": {
     "name": "#%%\n"
    }
   }
  },
  {
   "cell_type": "code",
   "execution_count": 3,
   "outputs": [],
   "source": [
    "uri_to_cluster = dict()\n",
    "clusters = []\n",
    "\n",
    "for _, r in pairs.iterrows():\n",
    "    s = r['a']\n",
    "    o = r['b']\n",
    "    cluster_no = uri_to_cluster.get(s, None)\n",
    "    if cluster_no is None:\n",
    "        cluster_no = uri_to_cluster.get(o, None)\n",
    "\n",
    "    if cluster_no is None:\n",
    "        uri_to_cluster[s] = len(clusters)\n",
    "        uri_to_cluster[o] = len(clusters)\n",
    "        clusters.append({s, o})\n",
    "    else:\n",
    "        uri_to_cluster[s] = cluster_no\n",
    "        uri_to_cluster[o] = cluster_no\n",
    "        clusters[cluster_no].add(s)\n",
    "        clusters[cluster_no].add(o)"
   ],
   "metadata": {
    "collapsed": false,
    "pycharm": {
     "name": "#%%\n"
    }
   }
  },
  {
   "cell_type": "code",
   "execution_count": 4,
   "outputs": [],
   "source": [
    "refs = pd.read_csv('dbpedia_refs.tsv', sep='\\t').set_index('t', verify_integrity=True)"
   ],
   "metadata": {
    "collapsed": false,
    "pycharm": {
     "name": "#%%\n"
    }
   }
  },
  {
   "cell_type": "code",
   "execution_count": 5,
   "outputs": [],
   "source": [
    "cluster_refs = []\n",
    "\n",
    "for cluster in clusters:\n",
    "    r = dict()\n",
    "    for t in cluster:\n",
    "        if t not in refs.index:\n",
    "            continue\n",
    "\n",
    "        dbpedia = refs.loc[t]['dbpedia']\n",
    "        if dbpedia in r:\n",
    "            r[dbpedia].add(t)\n",
    "        else:\n",
    "            r[dbpedia] = {t}\n",
    "\n",
    "    cluster_refs.append(r)"
   ],
   "metadata": {
    "collapsed": false,
    "pycharm": {
     "name": "#%%\n"
    }
   }
  },
  {
   "cell_type": "markdown",
   "source": [
    "Are there clusters with more than one unique DBpedia reference?"
   ],
   "metadata": {
    "collapsed": false
   }
  },
  {
   "cell_type": "code",
   "execution_count": 6,
   "outputs": [
    {
     "name": "stdout",
     "output_type": "stream",
     "text": [
      "Clusters with more than one DBpedia reference: 130\n"
     ]
    }
   ],
   "source": [
    "ref_counts = np.array([len(cluster) for cluster in cluster_refs])\n",
    "more_than_one = np.where(ref_counts > 1)[0]\n",
    "print(f'Clusters with more than one DBpedia reference: {len(more_than_one)}')"
   ],
   "metadata": {
    "collapsed": false,
    "pycharm": {
     "name": "#%%\n"
    }
   }
  },
  {
   "cell_type": "code",
   "execution_count": 7,
   "outputs": [
    {
     "data": {
      "text/plain": "array([[  2, 124],\n       [  3,   6]])"
     },
     "execution_count": 7,
     "metadata": {},
     "output_type": "execute_result"
    }
   ],
   "source": [
    "mto_counts = ref_counts[more_than_one]\n",
    "(unique, counts) = np.unique(mto_counts, return_counts=True)\n",
    "np.asarray((unique, counts)).T"
   ],
   "metadata": {
    "collapsed": false,
    "pycharm": {
     "name": "#%%\n"
    }
   }
  },
  {
   "cell_type": "markdown",
   "source": [
    "In clusters with one unique DBpedia reference, is it applied to every entity?"
   ],
   "metadata": {
    "collapsed": false,
    "pycharm": {
     "name": "#%% md\n"
    }
   }
  },
  {
   "cell_type": "code",
   "execution_count": 8,
   "outputs": [],
   "source": [
    "missing_refs = []\n",
    "only_one_ix = np.where(ref_counts == 1)[0]\n",
    "\n",
    "for ix in only_one_ix:\n",
    "    with_ref = list(cluster_refs[ix].values())[0]\n",
    "    all_ents = clusters[ix]\n",
    "    difference = all_ents - with_ref\n",
    "    if len(difference) == 0:\n",
    "        continue\n",
    "\n",
    "    missing_refs.append({\n",
    "        'cluster': ix,\n",
    "        'all_ents_count': len(all_ents),\n",
    "        'refs_missing_count': len(difference),\n",
    "        'refs_missing': difference,\n",
    "    })\n",
    "\n",
    "df_missing_refs = pd.DataFrame(missing_refs)"
   ],
   "metadata": {
    "collapsed": false,
    "pycharm": {
     "name": "#%%\n"
    }
   }
  },
  {
   "cell_type": "code",
   "execution_count": 9,
   "outputs": [
    {
     "name": "stdout",
     "output_type": "stream",
     "text": [
      "Clusters with missing DBpedia references: 752\n",
      "Entities with missing DBpedia references: 962\n"
     ]
    }
   ],
   "source": [
    "print(f'Clusters with missing DBpedia references: {len(df_missing_refs)}')\n",
    "print(f'Entities with missing DBpedia references: {df_missing_refs[\"refs_missing_count\"].sum()}')"
   ],
   "metadata": {
    "collapsed": false,
    "pycharm": {
     "name": "#%%\n"
    }
   }
  },
  {
   "cell_type": "code",
   "execution_count": 10,
   "outputs": [
    {
     "name": "stdout",
     "output_type": "stream",
     "text": [
      "Clusters with consistent DBpedia references: 1343 / 2225\n"
     ]
    }
   ],
   "source": [
    "no_issues_count = len(clusters) - len(more_than_one) - len(df_missing_refs)\n",
    "print(f'Clusters with consistent DBpedia references: {no_issues_count} / {len(clusters)}')"
   ],
   "metadata": {
    "collapsed": false,
    "pycharm": {
     "name": "#%%\n"
    }
   }
  },
  {
   "cell_type": "markdown",
   "source": [
    "Export results"
   ],
   "metadata": {
    "collapsed": false,
    "pycharm": {
     "name": "#%% md\n"
    }
   }
  },
  {
   "cell_type": "code",
   "execution_count": 11,
   "outputs": [],
   "source": [
    "mto_result = [\n",
    "    {\n",
    "        'topics': list(clusters[ix]),\n",
    "        'references': {\n",
    "            k: list(v)\n",
    "            for k, v in cluster_refs[ix].items()\n",
    "        },\n",
    "    }\n",
    "    for ix in more_than_one\n",
    "]\n",
    "\n",
    "with open('more_than_one_reference.json', 'w') as fp:\n",
    "    json.dump(mto_result, fp, indent=2)"
   ],
   "metadata": {
    "collapsed": false,
    "pycharm": {
     "name": "#%%\n"
    }
   }
  },
  {
   "cell_type": "code",
   "execution_count": 12,
   "outputs": [],
   "source": [
    "missing_result = [\n",
    "    {\n",
    "        'topics': list(clusters[mr['cluster']]),\n",
    "        'refs_missing': list(mr['refs_missing']),\n",
    "        'dbpedia': list(cluster_refs[mr['cluster']])[0]\n",
    "    }\n",
    "    for mr in missing_refs\n",
    "]\n",
    "\n",
    "with open('missing_references.json', 'w') as fp:\n",
    "    json.dump(missing_result, fp, indent=2)"
   ],
   "metadata": {
    "collapsed": false,
    "pycharm": {
     "name": "#%%\n"
    }
   }
  }
 ],
 "metadata": {
  "kernelspec": {
   "display_name": "Python 3",
   "language": "python",
   "name": "python3"
  },
  "language_info": {
   "codemirror_mode": {
    "name": "ipython",
    "version": 2
   },
   "file_extension": ".py",
   "mimetype": "text/x-python",
   "name": "python",
   "nbconvert_exporter": "python",
   "pygments_lexer": "ipython2",
   "version": "2.7.6"
  }
 },
 "nbformat": 4,
 "nbformat_minor": 0
}