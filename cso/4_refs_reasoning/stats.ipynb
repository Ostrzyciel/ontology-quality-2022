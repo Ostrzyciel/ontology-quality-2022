{
 "cells": [
  {
   "cell_type": "code",
   "execution_count": 1,
   "metadata": {
    "collapsed": true
   },
   "outputs": [],
   "source": [
    "import pandas as pd\n",
    "import csv"
   ]
  },
  {
   "cell_type": "code",
   "execution_count": 2,
   "outputs": [],
   "source": [
    "df = pd.read_csv('results/results_violation.csv', quoting=csv.QUOTE_ALL)"
   ],
   "metadata": {
    "collapsed": false,
    "pycharm": {
     "name": "#%%\n"
    }
   }
  },
  {
   "cell_type": "markdown",
   "source": [
    "Find unique URI pairs and unique URIs:"
   ],
   "metadata": {
    "collapsed": false,
    "pycharm": {
     "name": "#%% md\n"
    }
   }
  },
  {
   "cell_type": "code",
   "execution_count": 3,
   "outputs": [
    {
     "name": "stdout",
     "output_type": "stream",
     "text": [
      "All pairs found: 14914\n",
      "Unique pairs: 7457\n",
      "Unique URIs: 3250\n"
     ]
    }
   ],
   "source": [
    "pairs = set()\n",
    "uris = set()\n",
    "\n",
    "for _, r in df.iterrows():\n",
    "    if r['a'] < r['b']:\n",
    "        pair = r['a'] + '\\t' + r['b']\n",
    "    else:\n",
    "        pair = r['b'] + '\\t' + r['a']\n",
    "\n",
    "    uris.add(r['a'])\n",
    "    uris.add(r['b'])\n",
    "    pairs.add(pair)\n",
    "\n",
    "print(f'All pairs found: {len(df)}')\n",
    "print(f'Unique pairs: {len(pairs)}')\n",
    "print(f'Unique URIs: {len(uris)}')"
   ],
   "metadata": {
    "collapsed": false,
    "pycharm": {
     "name": "#%%\n"
    }
   }
  },
  {
   "cell_type": "markdown",
   "source": [
    "Dump results"
   ],
   "metadata": {
    "collapsed": false,
    "pycharm": {
     "name": "#%% md\n"
    }
   }
  },
  {
   "cell_type": "code",
   "execution_count": 4,
   "outputs": [],
   "source": [
    "with open('results/unique_pairs.tsv', 'wt') as f:\n",
    "    f.writelines(pair + '\\n' for pair in pairs)"
   ],
   "metadata": {
    "collapsed": false,
    "pycharm": {
     "name": "#%%\n"
    }
   }
  }
 ],
 "metadata": {
  "kernelspec": {
   "display_name": "Python 3",
   "language": "python",
   "name": "python3"
  },
  "language_info": {
   "codemirror_mode": {
    "name": "ipython",
    "version": 2
   },
   "file_extension": ".py",
   "mimetype": "text/x-python",
   "name": "python",
   "nbconvert_exporter": "python",
   "pygments_lexer": "ipython2",
   "version": "2.7.6"
  }
 },
 "nbformat": 4,
 "nbformat_minor": 0
}