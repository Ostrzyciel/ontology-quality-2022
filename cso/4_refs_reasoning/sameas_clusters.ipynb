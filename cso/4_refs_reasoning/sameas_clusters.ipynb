{
 "cells": [
  {
   "cell_type": "code",
   "execution_count": 1,
   "metadata": {
    "collapsed": true
   },
   "outputs": [],
   "source": [
    "import pandas as pd\n",
    "import rdflib\n",
    "from rdflib.namespace import OWL"
   ]
  },
  {
   "cell_type": "code",
   "execution_count": 2,
   "outputs": [],
   "source": [
    "pairs = pd.read_csv('results/sameAs_pairs.tsv', sep='\\t')"
   ],
   "metadata": {
    "collapsed": false,
    "pycharm": {
     "name": "#%%\n"
    }
   }
  },
  {
   "cell_type": "markdown",
   "source": [
    "Construct owl:sameAs clusters."
   ],
   "metadata": {
    "collapsed": false,
    "pycharm": {
     "name": "#%% md\n"
    }
   }
  },
  {
   "cell_type": "code",
   "execution_count": 3,
   "outputs": [],
   "source": [
    "uri_to_cluster = dict()\n",
    "clusters = []\n",
    "\n",
    "for _, r in pairs.iterrows():\n",
    "    s = r['s']\n",
    "    o = r['o']\n",
    "    cluster_no = uri_to_cluster.get(s, None)\n",
    "    if cluster_no is None:\n",
    "        cluster_no = uri_to_cluster.get(o, None)\n",
    "\n",
    "    if cluster_no is None:\n",
    "        uri_to_cluster[s] = len(clusters)\n",
    "        uri_to_cluster[o] = len(clusters)\n",
    "        clusters.append({s, o})\n",
    "    else:\n",
    "        uri_to_cluster[s] = cluster_no\n",
    "        uri_to_cluster[o] = cluster_no\n",
    "        clusters[cluster_no].add(s)\n",
    "        clusters[cluster_no].add(o)"
   ],
   "metadata": {
    "collapsed": false,
    "pycharm": {
     "name": "#%%\n"
    }
   }
  },
  {
   "cell_type": "markdown",
   "source": [
    "Build an RDF graph, while pruning the external URIs (we won't need them later)."
   ],
   "metadata": {
    "collapsed": false,
    "pycharm": {
     "name": "#%% md\n"
    }
   }
  },
  {
   "cell_type": "code",
   "execution_count": 4,
   "outputs": [],
   "source": [
    "g = rdflib.Graph()\n",
    "for cluster in clusters:\n",
    "    to_include = [uri for uri in cluster if uri.startswith('https://cso.kmi.open.ac.uk/topics/')]\n",
    "    for i in to_include:\n",
    "        for j in to_include:\n",
    "            if i != j:\n",
    "                g.add((\n",
    "                    rdflib.URIRef(i),\n",
    "                    OWL.sameAs,\n",
    "                    rdflib.URIRef(j)\n",
    "                ))"
   ],
   "metadata": {
    "collapsed": false,
    "pycharm": {
     "name": "#%%\n"
    }
   }
  },
  {
   "cell_type": "code",
   "execution_count": 5,
   "outputs": [
    {
     "data": {
      "text/plain": "<Graph identifier=Nbaee6b55f7604f429383bb40165220fa (<class 'rdflib.graph.Graph'>)>"
     },
     "execution_count": 5,
     "metadata": {},
     "output_type": "execute_result"
    }
   ],
   "source": [
    "g.serialize(format='ttl', destination='results/sameAs_inferred.ttl')"
   ],
   "metadata": {
    "collapsed": false,
    "pycharm": {
     "name": "#%%\n"
    }
   }
  }
 ],
 "metadata": {
  "kernelspec": {
   "display_name": "Python 3",
   "language": "python",
   "name": "python3"
  },
  "language_info": {
   "codemirror_mode": {
    "name": "ipython",
    "version": 2
   },
   "file_extension": ".py",
   "mimetype": "text/x-python",
   "name": "python",
   "nbconvert_exporter": "python",
   "pygments_lexer": "ipython2",
   "version": "2.7.6"
  }
 },
 "nbformat": 4,
 "nbformat_minor": 0
}