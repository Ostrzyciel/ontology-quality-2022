{
 "cells": [
  {
   "cell_type": "code",
   "execution_count": 1,
   "metadata": {
    "collapsed": true
   },
   "outputs": [],
   "source": [
    "import pandas as pd"
   ]
  },
  {
   "cell_type": "code",
   "execution_count": 2,
   "outputs": [],
   "source": [
    "suspects = pd.read_json('results/final_suspects.json').set_index('dbpedia')\n",
    "results = pd.read_json('results/review_results.json', orient='index')\n",
    "\n",
    "df = results.join(suspects)"
   ],
   "metadata": {
    "collapsed": false,
    "pycharm": {
     "name": "#%%\n"
    }
   }
  },
  {
   "cell_type": "code",
   "execution_count": 3,
   "outputs": [
    {
     "data": {
      "text/plain": "          comment  reason  cso_topics\ndecision                             \ninvalid        74      74          74\nother          31      31          31\nvalid          35      35          35",
      "text/html": "<div>\n<style scoped>\n    .dataframe tbody tr th:only-of-type {\n        vertical-align: middle;\n    }\n\n    .dataframe tbody tr th {\n        vertical-align: top;\n    }\n\n    .dataframe thead th {\n        text-align: right;\n    }\n</style>\n<table border=\"1\" class=\"dataframe\">\n  <thead>\n    <tr style=\"text-align: right;\">\n      <th></th>\n      <th>comment</th>\n      <th>reason</th>\n      <th>cso_topics</th>\n    </tr>\n    <tr>\n      <th>decision</th>\n      <th></th>\n      <th></th>\n      <th></th>\n    </tr>\n  </thead>\n  <tbody>\n    <tr>\n      <th>invalid</th>\n      <td>74</td>\n      <td>74</td>\n      <td>74</td>\n    </tr>\n    <tr>\n      <th>other</th>\n      <td>31</td>\n      <td>31</td>\n      <td>31</td>\n    </tr>\n    <tr>\n      <th>valid</th>\n      <td>35</td>\n      <td>35</td>\n      <td>35</td>\n    </tr>\n  </tbody>\n</table>\n</div>"
     },
     "execution_count": 3,
     "metadata": {},
     "output_type": "execute_result"
    }
   ],
   "source": [
    "df.groupby(['decision']).count()"
   ],
   "metadata": {
    "collapsed": false,
    "pycharm": {
     "name": "#%%\n"
    }
   }
  },
  {
   "cell_type": "code",
   "execution_count": 4,
   "outputs": [
    {
     "data": {
      "text/plain": "                                             comment  cso_topics\ndecision reason                                                 \ninvalid  not connected                            47          47\n         not connected after bridge removal       27          27\nother    community                                 2           2\n         not connected                            14          14\n         not connected after bridge removal       15          15\nvalid    community                                 7           7\n         not connected                            15          15\n         not connected after bridge removal       13          13",
      "text/html": "<div>\n<style scoped>\n    .dataframe tbody tr th:only-of-type {\n        vertical-align: middle;\n    }\n\n    .dataframe tbody tr th {\n        vertical-align: top;\n    }\n\n    .dataframe thead th {\n        text-align: right;\n    }\n</style>\n<table border=\"1\" class=\"dataframe\">\n  <thead>\n    <tr style=\"text-align: right;\">\n      <th></th>\n      <th></th>\n      <th>comment</th>\n      <th>cso_topics</th>\n    </tr>\n    <tr>\n      <th>decision</th>\n      <th>reason</th>\n      <th></th>\n      <th></th>\n    </tr>\n  </thead>\n  <tbody>\n    <tr>\n      <th rowspan=\"2\" valign=\"top\">invalid</th>\n      <th>not connected</th>\n      <td>47</td>\n      <td>47</td>\n    </tr>\n    <tr>\n      <th>not connected after bridge removal</th>\n      <td>27</td>\n      <td>27</td>\n    </tr>\n    <tr>\n      <th rowspan=\"3\" valign=\"top\">other</th>\n      <th>community</th>\n      <td>2</td>\n      <td>2</td>\n    </tr>\n    <tr>\n      <th>not connected</th>\n      <td>14</td>\n      <td>14</td>\n    </tr>\n    <tr>\n      <th>not connected after bridge removal</th>\n      <td>15</td>\n      <td>15</td>\n    </tr>\n    <tr>\n      <th rowspan=\"3\" valign=\"top\">valid</th>\n      <th>community</th>\n      <td>7</td>\n      <td>7</td>\n    </tr>\n    <tr>\n      <th>not connected</th>\n      <td>15</td>\n      <td>15</td>\n    </tr>\n    <tr>\n      <th>not connected after bridge removal</th>\n      <td>13</td>\n      <td>13</td>\n    </tr>\n  </tbody>\n</table>\n</div>"
     },
     "execution_count": 4,
     "metadata": {},
     "output_type": "execute_result"
    }
   ],
   "source": [
    "df.groupby(['decision', 'reason']).count()"
   ],
   "metadata": {
    "collapsed": false,
    "pycharm": {
     "name": "#%%\n"
    }
   }
  }
 ],
 "metadata": {
  "kernelspec": {
   "display_name": "Python 3",
   "language": "python",
   "name": "python3"
  },
  "language_info": {
   "codemirror_mode": {
    "name": "ipython",
    "version": 2
   },
   "file_extension": ".py",
   "mimetype": "text/x-python",
   "name": "python",
   "nbconvert_exporter": "python",
   "pygments_lexer": "ipython2",
   "version": "2.7.6"
  }
 },
 "nbformat": 4,
 "nbformat_minor": 0
}