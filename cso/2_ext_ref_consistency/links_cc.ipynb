{
 "cells": [
  {
   "cell_type": "code",
   "execution_count": 1,
   "metadata": {
    "collapsed": true
   },
   "outputs": [],
   "source": [
    "import networkx as nx\n",
    "import pandas as pd\n",
    "\n",
    "import itertools\n",
    "import json"
   ]
  },
  {
   "cell_type": "code",
   "execution_count": 2,
   "outputs": [],
   "source": [
    "raw_data = pd.read_json('results/mutual_links.json')"
   ],
   "metadata": {
    "collapsed": false,
    "pycharm": {
     "name": "#%%\n"
    }
   }
  },
  {
   "cell_type": "code",
   "execution_count": 3,
   "outputs": [],
   "source": [
    "g = nx.Graph()\n",
    "g.add_nodes_from(raw_data.dbpedia)\n",
    "g.add_edges_from((\n",
    "    (r['dbpedia'], target)\n",
    "    for _, r in raw_data.iterrows()\n",
    "    for target in ([] if pd.isna(r['others']) else r['others'].split(' || '))\n",
    "))"
   ],
   "metadata": {
    "collapsed": false,
    "pycharm": {
     "name": "#%%\n"
    }
   }
  },
  {
   "cell_type": "code",
   "execution_count": 4,
   "outputs": [
    {
     "name": "stdout",
     "output_type": "stream",
     "text": [
      "Nodes outside large connected components: 76\n"
     ]
    }
   ],
   "source": [
    "def get_unconnected(graph):\n",
    "    ccs = list(nx.connected_components(graph))\n",
    "    not_connected = []\n",
    "\n",
    "    for cc in ccs:\n",
    "        if len(cc) > 10:\n",
    "            continue\n",
    "        not_connected.extend(cc)\n",
    "\n",
    "    print(f'Nodes outside large connected components: {len(not_connected)}')\n",
    "    return not_connected\n",
    "\n",
    "suspects_unconnected = get_unconnected(g)"
   ],
   "metadata": {
    "collapsed": false,
    "pycharm": {
     "name": "#%%\n"
    }
   }
  },
  {
   "cell_type": "markdown",
   "source": [
    "Remove suspects from previous step. Seek out communities in the connected graph."
   ],
   "metadata": {
    "collapsed": false,
    "pycharm": {
     "name": "#%% md\n"
    }
   }
  },
  {
   "cell_type": "code",
   "execution_count": 5,
   "outputs": [],
   "source": [
    "g.remove_nodes_from(suspects_unconnected)"
   ],
   "metadata": {
    "collapsed": false,
    "pycharm": {
     "name": "#%%\n"
    }
   }
  },
  {
   "cell_type": "code",
   "execution_count": 6,
   "outputs": [
    {
     "name": "stdout",
     "output_type": "stream",
     "text": [
      "Nodes outside large connected components: 55\n"
     ]
    }
   ],
   "source": [
    "g_bridges = list(nx.bridges(g))\n",
    "g.remove_edges_from(g_bridges)\n",
    "suspects_unconnected2 = get_unconnected(g)\n",
    "g.remove_nodes_from(suspects_unconnected2)"
   ],
   "metadata": {
    "collapsed": false,
    "pycharm": {
     "name": "#%%\n"
    }
   }
  },
  {
   "cell_type": "code",
   "execution_count": 7,
   "outputs": [],
   "source": [
    "communities = list(nx.community.label_propagation_communities(g))\n",
    "\n",
    "suspects_community = []\n",
    "\n",
    "for community in communities:\n",
    "    if len(community) > 10:\n",
    "        continue\n",
    "    suspects_community.extend(community)"
   ],
   "metadata": {
    "collapsed": false,
    "pycharm": {
     "name": "#%%\n"
    }
   }
  },
  {
   "cell_type": "code",
   "execution_count": 8,
   "outputs": [
    {
     "data": {
      "text/plain": "                                    dbpedia\nreason                                     \ncommunity                                 9\nnot connected                            76\nnot connected after bridge removal       55",
      "text/html": "<div>\n<style scoped>\n    .dataframe tbody tr th:only-of-type {\n        vertical-align: middle;\n    }\n\n    .dataframe tbody tr th {\n        vertical-align: top;\n    }\n\n    .dataframe thead th {\n        text-align: right;\n    }\n</style>\n<table border=\"1\" class=\"dataframe\">\n  <thead>\n    <tr style=\"text-align: right;\">\n      <th></th>\n      <th>dbpedia</th>\n    </tr>\n    <tr>\n      <th>reason</th>\n      <th></th>\n    </tr>\n  </thead>\n  <tbody>\n    <tr>\n      <th>community</th>\n      <td>9</td>\n    </tr>\n    <tr>\n      <th>not connected</th>\n      <td>76</td>\n    </tr>\n    <tr>\n      <th>not connected after bridge removal</th>\n      <td>55</td>\n    </tr>\n  </tbody>\n</table>\n</div>"
     },
     "execution_count": 8,
     "metadata": {},
     "output_type": "execute_result"
    }
   ],
   "source": [
    "results = pd.DataFrame(\n",
    "    columns=['dbpedia', 'reason'],\n",
    "    data=itertools.chain(\n",
    "        ((uri, 'not connected') for uri in suspects_unconnected),\n",
    "        ((uri, 'not connected after bridge removal') for uri in suspects_unconnected2),\n",
    "        ((uri, 'community') for uri in suspects_community)\n",
    "    )\n",
    ")\n",
    "\n",
    "results.groupby('reason').count()"
   ],
   "metadata": {
    "collapsed": false,
    "pycharm": {
     "name": "#%%\n"
    }
   }
  },
  {
   "cell_type": "code",
   "execution_count": 9,
   "outputs": [],
   "source": [
    "raw_data = raw_data.set_index('dbpedia')"
   ],
   "metadata": {
    "collapsed": false,
    "pycharm": {
     "name": "#%%\n"
    }
   }
  },
  {
   "cell_type": "code",
   "execution_count": 10,
   "outputs": [],
   "source": [
    "results = results.join(raw_data, on='dbpedia').drop(columns=['linkCount', 'others'])"
   ],
   "metadata": {
    "collapsed": false,
    "pycharm": {
     "name": "#%%\n"
    }
   }
  },
  {
   "cell_type": "code",
   "execution_count": 11,
   "outputs": [],
   "source": [
    "results_arr = []\n",
    "\n",
    "for _, r in results.iterrows():\n",
    "    results_arr.append({\n",
    "        'dbpedia': r['dbpedia'],\n",
    "        'reason': r['reason'],\n",
    "        'cso_topics': ['https://cso.kmi.open.ac.uk/topics/' + y for y in r['cso_topics'].split()]\n",
    "    })\n",
    "\n",
    "json.dump(results_arr, open('results/final_suspects.json', 'w'), indent=2)\n"
   ],
   "metadata": {
    "collapsed": false,
    "pycharm": {
     "name": "#%%\n"
    }
   }
  }
 ],
 "metadata": {
  "kernelspec": {
   "display_name": "Python 3",
   "language": "python",
   "name": "python3"
  },
  "language_info": {
   "codemirror_mode": {
    "name": "ipython",
    "version": 2
   },
   "file_extension": ".py",
   "mimetype": "text/x-python",
   "name": "python",
   "nbconvert_exporter": "python",
   "pygments_lexer": "ipython2",
   "version": "2.7.6"
  }
 },
 "nbformat": 4,
 "nbformat_minor": 0
}