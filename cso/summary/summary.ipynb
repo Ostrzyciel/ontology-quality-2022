{
 "cells": [
  {
   "cell_type": "code",
   "execution_count": 1,
   "metadata": {
    "collapsed": true
   },
   "outputs": [],
   "source": [
    "import json\n",
    "import pandas as pd\n",
    "import numpy as np"
   ]
  },
  {
   "cell_type": "code",
   "execution_count": 2,
   "outputs": [],
   "source": [
    "(clusters, uri_to_cluster, is_main_label, uri_to_label) = pd.read_pickle('../6_conflation/temp/cluster_data.pkl.bz2')\n",
    "\n",
    "with open('results/all_topics.tsv') as fp:\n",
    "    all_topics = [line.strip() for line in fp.readlines()]\n",
    "\n",
    "for topic in all_topics:\n",
    "    if topic not in uri_to_cluster:\n",
    "        uri_to_cluster[topic] = len(clusters)\n",
    "        clusters.append({topic})"
   ],
   "metadata": {
    "collapsed": false,
    "pycharm": {
     "name": "#%%\n"
    }
   }
  },
  {
   "cell_type": "code",
   "execution_count": 3,
   "outputs": [],
   "source": [
    "cluster_issues = [[] for c in clusters]\n",
    "uri_issues = {uri: [] for uri in all_topics}\n",
    "uri_warnings = {uri: [] for uri in all_topics}"
   ],
   "metadata": {
    "collapsed": false,
    "pycharm": {
     "name": "#%%\n"
    }
   }
  },
  {
   "cell_type": "markdown",
   "source": [
    "### 2: externally inconsistent references"
   ],
   "metadata": {
    "collapsed": false,
    "pycharm": {
     "name": "#%% md\n"
    }
   }
  },
  {
   "cell_type": "code",
   "execution_count": 4,
   "outputs": [],
   "source": [
    "with open('../2_ext_ref_consistency/results/review_results.json') as fp:\n",
    "    ex2_results = json.load(fp)\n",
    "\n",
    "with open('../2_ext_ref_consistency/results/final_suspects.json') as fp:\n",
    "    ex2_suspects = {\n",
    "        v['dbpedia']: v\n",
    "        for v in json.load(fp)\n",
    "    }\n",
    "\n",
    "for dbpedia, v in ex2_results.items():\n",
    "    suspect = ex2_suspects[dbpedia]\n",
    "    o = {\n",
    "        'experiment': 'ex2',\n",
    "        'comment': v['comment'],\n",
    "        'comment2': suspect['reason'],\n",
    "    }\n",
    "\n",
    "    if v['decision'] == 'invalid':\n",
    "        o['issue'] = 'invalid DBpedia reference'\n",
    "        for uri in suspect['cso_topics']:\n",
    "            uri_issues[uri].append(o)\n",
    "\n",
    "    elif v['decision'] == 'other':\n",
    "        o['issue'] = 'other'\n",
    "        for uri in suspect['cso_topics']:\n",
    "            uri_warnings[uri].append(o)"
   ],
   "metadata": {
    "collapsed": false,
    "pycharm": {
     "name": "#%%\n"
    }
   }
  },
  {
   "cell_type": "markdown",
   "source": [
    "### 3: missing references to corresponding KBs"
   ],
   "metadata": {
    "collapsed": false,
    "pycharm": {
     "name": "#%% md\n"
    }
   }
  },
  {
   "cell_type": "code",
   "execution_count": 5,
   "outputs": [],
   "source": [
    "ex3_results = pd.read_csv('../3_missing_refs/results/missing_refs.tsv', sep='\\t')\n",
    "\n",
    "for uri in ex3_results['t'].values:\n",
    "    uri_issues[uri].append({\n",
    "        'experiment': 'ex3',\n",
    "        'issue': 'missing Wikidata reference',\n",
    "    })"
   ],
   "metadata": {
    "collapsed": false,
    "pycharm": {
     "name": "#%%\n"
    }
   }
  },
  {
   "cell_type": "markdown",
   "source": [
    "### 4: logically invalid alignments"
   ],
   "metadata": {
    "collapsed": false,
    "pycharm": {
     "name": "#%% md\n"
    }
   }
  },
  {
   "cell_type": "code",
   "execution_count": 6,
   "outputs": [],
   "source": [
    "ex4_results = pd.read_csv('../4_refs_reasoning/results/unique_pairs.tsv', sep='\\t', names=['a', 'b'])\n",
    "\n",
    "for _, r in ex4_results.iterrows():\n",
    "    uri_issues[r.a].append({\n",
    "        'experiment': 'ex4',\n",
    "        'issue': 'invalid inferred sameAs',\n",
    "        'comment': r.b\n",
    "    })\n",
    "    uri_issues[r.b].append({\n",
    "        'experiment': 'ex4',\n",
    "        'issue': 'invalid inferred sameAs',\n",
    "        'comment': r.a\n",
    "    })"
   ],
   "metadata": {
    "collapsed": false,
    "pycharm": {
     "name": "#%%\n"
    }
   }
  },
  {
   "cell_type": "markdown",
   "source": [
    "### 5: intra-cluster alignment inconsistencies"
   ],
   "metadata": {
    "collapsed": false,
    "pycharm": {
     "name": "#%% md\n"
    }
   }
  },
  {
   "cell_type": "code",
   "execution_count": 7,
   "outputs": [],
   "source": [
    "with open('../5_intra_ref_consistency/results/more_than_one_reference.json') as fp:\n",
    "    ex5_too_many = json.load(fp)\n",
    "\n",
    "for v in ex5_too_many:\n",
    "    cluster_issues[uri_to_cluster[v['topics'][0]]].append({\n",
    "        'experiment': 'ex5',\n",
    "        'issue': 'cluster contains more than one unique DBpedia reference',\n",
    "    })"
   ],
   "metadata": {
    "collapsed": false,
    "pycharm": {
     "name": "#%%\n"
    }
   }
  },
  {
   "cell_type": "code",
   "execution_count": 8,
   "outputs": [],
   "source": [
    "with open('../5_intra_ref_consistency/results/missing_references.json') as fp:\n",
    "    ex5_missing = json.load(fp)\n",
    "\n",
    "for v in ex5_missing:\n",
    "    for t in v['refs_missing']:\n",
    "        uri_issues[t].append({\n",
    "            'experiment': 'ex5',\n",
    "            'issue': 'missing DBpedia reference',\n",
    "            'comment': v['dbpedia'],\n",
    "        })"
   ],
   "metadata": {
    "collapsed": false,
    "pycharm": {
     "name": "#%%\n"
    }
   }
  },
  {
   "cell_type": "markdown",
   "source": [
    "### 6: term conflation"
   ],
   "metadata": {
    "collapsed": false,
    "pycharm": {
     "name": "#%% md\n"
    }
   }
  },
  {
   "cell_type": "code",
   "execution_count": 9,
   "outputs": [],
   "source": [
    "ex6_results = pd.read_csv('../6_conflation/results/cluster_reviews.csv')\n",
    "\n",
    "# Assume majority vote approach\n",
    "for _, r in ex6_results[ex6_results.is_wrong_majority].iterrows():\n",
    "    cluster_issues[r.cluster].append({\n",
    "        'experiment': 'ex6',\n",
    "        'issue': 'inconsistent synonyms in cluster',\n",
    "    })"
   ],
   "metadata": {
    "collapsed": false,
    "pycharm": {
     "name": "#%%\n"
    }
   }
  },
  {
   "cell_type": "markdown",
   "source": [
    "\"Propagate\" issues from individual URIs to clusters"
   ],
   "metadata": {
    "collapsed": false,
    "pycharm": {
     "name": "#%% md\n"
    }
   }
  },
  {
   "cell_type": "code",
   "execution_count": 10,
   "outputs": [],
   "source": [
    "for uri, issues in uri_issues.items():\n",
    "    for issue in issues:\n",
    "        c_issue = issue.copy()\n",
    "        c_issue['uri'] = uri\n",
    "        cluster_issues[uri_to_cluster[uri]].append(c_issue)"
   ],
   "metadata": {
    "collapsed": false,
    "pycharm": {
     "name": "#%%\n"
    }
   }
  },
  {
   "cell_type": "markdown",
   "source": [
    "### Summarize"
   ],
   "metadata": {
    "collapsed": false,
    "pycharm": {
     "name": "#%% md\n"
    }
   }
  },
  {
   "cell_type": "code",
   "execution_count": 11,
   "outputs": [
    {
     "name": "stdout",
     "output_type": "stream",
     "text": [
      "Nonzero: 3137\n",
      "[[   0 8050]\n",
      " [   1  854]\n",
      " [   2  571]\n",
      " [   3  379]\n",
      " [   4  257]\n",
      " [   5  188]\n",
      " [   6  123]\n",
      " [   7  109]\n",
      " [   8  129]\n",
      " [   9   68]\n",
      " [  10   69]\n",
      " [  11   58]\n",
      " [  12   61]\n",
      " [  13   24]\n",
      " [  14   34]\n",
      " [  15   12]\n",
      " [  16   16]\n",
      " [  17   12]\n",
      " [  18   17]\n",
      " [  19   42]\n",
      " [  20   11]\n",
      " [  21    2]\n",
      " [  22    7]\n",
      " [  23    2]\n",
      " [  24   22]\n",
      " [  25    4]\n",
      " [  26    5]\n",
      " [  27    3]\n",
      " [  28    2]\n",
      " [  29   22]\n",
      " [  30    2]\n",
      " [  32    7]\n",
      " [  33    2]\n",
      " [  34    1]\n",
      " [  35    1]\n",
      " [  36    6]\n",
      " [  37    2]\n",
      " [  38    1]\n",
      " [  39    1]\n",
      " [  40    1]\n",
      " [  41    2]\n",
      " [  43    1]\n",
      " [  56    5]\n",
      " [  68    1]\n",
      " [  81    1]]\n"
     ]
    }
   ],
   "source": [
    "cluster_issue_count = np.array([len(issues) for issues in cluster_issues])\n",
    "\n",
    "cl_unique, cl_counts = np.unique(cluster_issue_count, return_counts=True)\n",
    "print(f'Nonzero: {cl_counts[1:].sum()}')\n",
    "print(np.asarray((cl_unique, cl_counts)).T)"
   ],
   "metadata": {
    "collapsed": false,
    "pycharm": {
     "name": "#%%\n"
    }
   }
  },
  {
   "cell_type": "code",
   "execution_count": 12,
   "outputs": [
    {
     "name": "stdout",
     "output_type": "stream",
     "text": [
      "Nonzero: 4287\n",
      "[[    0 10003]\n",
      " [    1  1875]\n",
      " [    2   610]\n",
      " [    3   439]\n",
      " [    4   247]\n",
      " [    5   224]\n",
      " [    6   129]\n",
      " [    7   144]\n",
      " [    8   147]\n",
      " [    9    91]\n",
      " [   10    79]\n",
      " [   11    73]\n",
      " [   12    46]\n",
      " [   13    24]\n",
      " [   14    19]\n",
      " [   15     7]\n",
      " [   16    10]\n",
      " [   17    12]\n",
      " [   18    12]\n",
      " [   19    44]\n",
      " [   24    25]\n",
      " [   27     3]\n",
      " [   28     6]\n",
      " [   29    21]]\n"
     ]
    }
   ],
   "source": [
    "uri_issue_count = np.array([len(issues) for issues in uri_issues.values()])\n",
    "\n",
    "uri_unique, uri_counts = np.unique(uri_issue_count, return_counts=True)\n",
    "print(f'Nonzero: {uri_counts[1:].sum()}')\n",
    "print(np.asarray((uri_unique, uri_counts)).T)"
   ],
   "metadata": {
    "collapsed": false,
    "pycharm": {
     "name": "#%%\n"
    }
   }
  }
 ],
 "metadata": {
  "kernelspec": {
   "display_name": "Python 3",
   "language": "python",
   "name": "python3"
  },
  "language_info": {
   "codemirror_mode": {
    "name": "ipython",
    "version": 2
   },
   "file_extension": ".py",
   "mimetype": "text/x-python",
   "name": "python",
   "nbconvert_exporter": "python",
   "pygments_lexer": "ipython2",
   "version": "2.7.6"
  }
 },
 "nbformat": 4,
 "nbformat_minor": 0
}