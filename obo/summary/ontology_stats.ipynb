{
 "cells": [
  {
   "cell_type": "code",
   "execution_count": 1,
   "metadata": {
    "collapsed": true
   },
   "outputs": [],
   "source": [
    "import json\n",
    "import yaml\n",
    "import pandas as pd\n",
    "\n",
    "from SPARQLWrapper import SPARQLWrapper, JSON"
   ]
  },
  {
   "cell_type": "code",
   "execution_count": 8,
   "outputs": [],
   "source": [
    "with open('data/ontos') as fp:\n",
    "    ontologies = [l.strip() for l in fp.readlines()]\n",
    "\n",
    "ontologies.append('ontos')"
   ],
   "metadata": {
    "collapsed": false,
    "pycharm": {
     "name": "#%%\n"
    }
   }
  },
  {
   "cell_type": "code",
   "execution_count": 9,
   "outputs": [],
   "source": [
    "query = '''\n",
    "SELECT (COUNT(*) as ?count) where { ?s ?p ?o . }\n",
    "'''\n",
    "\n",
    "sizes = dict()\n",
    "\n",
    "for ontology in ontologies:\n",
    "    e = SPARQLWrapper(f'http://127.0.0.1:9999/blazegraph/namespace/obo-{ontology}/sparql')\n",
    "    e.setRequestMethod('postdirectly')\n",
    "    e.setMethod('POST')\n",
    "    e.setReturnFormat(JSON)\n",
    "    e.setQuery(query)\n",
    "    sizes[ontology] = int(e.query().convert()['results']['bindings'][0]['count']['value'])"
   ],
   "metadata": {
    "collapsed": false,
    "pycharm": {
     "name": "#%%\n"
    }
   }
  },
  {
   "cell_type": "code",
   "execution_count": 10,
   "outputs": [
    {
     "data": {
      "text/plain": "bfo              1221\niao              4733\naeo              5222\npco              5298\nuo               5482\nro               6002\nsymp             7190\nxco              9714\npeco            13907\napollo-sv       17445\nfobi            21865\nehdaa2          56918\npo              60494\ncaro            78498\nfoodon          79834\nbto             87687\nobi             91851\nenvo            99351\nagro           116305\ndoid           248286\npato           321681\ncl             713518\nuberon         771542\nhp             934729\nmp            1180359\ngo            1425359\ngaz           5083960\nchebi         5871014\ndron          6664707\nncbitaxon    16105832\nontos        39156273\ndtype: int64"
     },
     "execution_count": 10,
     "metadata": {},
     "output_type": "execute_result"
    }
   ],
   "source": [
    "pd.Series(sizes).sort_values()"
   ],
   "metadata": {
    "collapsed": false,
    "pycharm": {
     "name": "#%%\n"
    }
   }
  },
  {
   "cell_type": "code",
   "execution_count": 14,
   "outputs": [
    {
     "data": {
      "text/plain": "40090004"
     },
     "execution_count": 14,
     "metadata": {},
     "output_type": "execute_result"
    }
   ],
   "source": [
    "sum(list(sizes.values())[:-1])"
   ],
   "metadata": {
    "collapsed": false,
    "pycharm": {
     "name": "#%%\n"
    }
   }
  }
 ],
 "metadata": {
  "kernelspec": {
   "display_name": "Python 3",
   "language": "python",
   "name": "python3"
  },
  "language_info": {
   "codemirror_mode": {
    "name": "ipython",
    "version": 2
   },
   "file_extension": ".py",
   "mimetype": "text/x-python",
   "name": "python",
   "nbconvert_exporter": "python",
   "pygments_lexer": "ipython2",
   "version": "2.7.6"
  }
 },
 "nbformat": 4,
 "nbformat_minor": 0
}