{
 "cells": [
  {
   "cell_type": "code",
   "execution_count": 1,
   "metadata": {
    "collapsed": true
   },
   "outputs": [],
   "source": [
    "import json\n",
    "import pandas as pd\n",
    "\n",
    "from SPARQLWrapper import SPARQLWrapper, JSON"
   ]
  },
  {
   "cell_type": "code",
   "execution_count": 2,
   "outputs": [],
   "source": [
    "with open('../ontos.txt') as fp:\n",
    "    ontologies = [l.strip() for l in fp.readlines()]\n",
    "\n",
    "endpoints = dict()\n",
    "for ontology in ontologies:\n",
    "    e = SPARQLWrapper(f'http://127.0.0.1:9999/blazegraph/namespace/obo-{ontology}/sparql')\n",
    "    e.setRequestMethod('postdirectly')\n",
    "    e.setMethod('POST')\n",
    "    e.setReturnFormat(JSON)\n",
    "    endpoints[ontology] = e"
   ],
   "metadata": {
    "collapsed": false,
    "pycharm": {
     "name": "#%%\n"
    }
   }
  },
  {
   "cell_type": "code",
   "execution_count": 3,
   "outputs": [],
   "source": [
    "with open('xrefs_bnodes.rq') as fp:\n",
    "    bnodes_query = fp.read()\n",
    "\n",
    "with open('xrefs_oboInOwl.rq') as fp:\n",
    "    obo_query = fp.read()"
   ],
   "metadata": {
    "collapsed": false,
    "pycharm": {
     "name": "#%%\n"
    }
   }
  },
  {
   "cell_type": "code",
   "execution_count": 4,
   "outputs": [],
   "source": [
    "bnode_count = dict()\n",
    "\n",
    "for ontology, e in endpoints.items():\n",
    "    e.setQuery(bnodes_query)\n",
    "    data = e.query().convert()['results']['bindings']\n",
    "    bnode_count[ontology] = len(data)"
   ],
   "metadata": {
    "collapsed": false,
    "pycharm": {
     "name": "#%%\n"
    }
   }
  },
  {
   "cell_type": "code",
   "execution_count": 5,
   "outputs": [
    {
     "data": {
      "text/plain": "aeo            0\nagro           0\napollo-sv    214\nbfo            0\nbto            0\ncaro           0\nchebi          0\ncl             0\ndoid           0\ndron           0\nehdaa2         0\nenvo           0\nfobi           0\nfoodon         0\ngaz            0\ngo             0\nhp             0\niao            0\nmp             0\nncbitaxon      0\nobi            0\npato           0\npco            0\npeco           0\npo             0\nro             0\nsymp           0\nuberon         0\nuo             0\nxco            0\ndtype: int64"
     },
     "execution_count": 5,
     "metadata": {},
     "output_type": "execute_result"
    }
   ],
   "source": [
    "pd.Series(bnode_count)"
   ],
   "metadata": {
    "collapsed": false,
    "pycharm": {
     "name": "#%%\n"
    }
   }
  },
  {
   "cell_type": "code",
   "execution_count": 6,
   "outputs": [
    {
     "name": "stdout",
     "output_type": "stream",
     "text": [
      "aeo\n",
      "agro\n",
      "apollo-sv\n",
      "bfo\n",
      "bto\n",
      "caro\n",
      "chebi\n",
      "cl\n",
      "doid\n",
      "dron\n",
      "ehdaa2\n",
      "envo\n",
      "fobi\n",
      "foodon\n",
      "gaz\n",
      "go\n",
      "hp\n",
      "iao\n",
      "mp\n",
      "ncbitaxon\n",
      "obi\n",
      "pato\n",
      "pco\n",
      "peco\n",
      "po\n",
      "ro\n",
      "symp\n",
      "uberon\n",
      "uo\n",
      "xco\n"
     ]
    }
   ],
   "source": [
    "for ontology, e in endpoints.items():\n",
    "    e.setQuery(obo_query)\n",
    "    data = e.query().convert()['results']['bindings']\n",
    "    data = [\n",
    "        { k: v['value'] for k, v in r.items() }\n",
    "        for r in data\n",
    "    ]\n",
    "    with open(f'results/xrefs_per_ont/xrefs_{ontology}.json', 'w') as fp:\n",
    "        json.dump(data, fp)\n",
    "    print(ontology)"
   ],
   "metadata": {
    "collapsed": false,
    "pycharm": {
     "name": "#%%\n"
    }
   }
  },
  {
   "cell_type": "code",
   "execution_count": 7,
   "outputs": [],
   "source": [
    "def make_po_set(df: pd.DataFrame) -> set:\n",
    "    return set(df.apply(lambda r: r['p'] + '||' + r['o'], axis=1))\n",
    "\n",
    "def make_po_df(df: pd.DataFrame) -> pd.DataFrame:\n",
    "    df1 = df[['s']].copy()\n",
    "    df1['po'] = df.apply(lambda r: r['p'] + '||' + r['o'], axis=1)\n",
    "    return df1"
   ],
   "metadata": {
    "collapsed": false,
    "pycharm": {
     "name": "#%%\n"
    }
   }
  },
  {
   "cell_type": "code",
   "execution_count": 8,
   "outputs": [],
   "source": [
    "po_xrefs_uri = make_po_set(pd.read_json('results/xrefs_uri.json'))\n",
    "po_xrefs_unknown = make_po_set(pd.read_json('results/xrefs_unknown_id.json'))"
   ],
   "metadata": {
    "collapsed": false,
    "pycharm": {
     "name": "#%%\n"
    }
   }
  },
  {
   "cell_type": "code",
   "execution_count": 9,
   "outputs": [
    {
     "name": "stdout",
     "output_type": "stream",
     "text": [
      "aeo\n",
      "agro\n",
      "apollo-sv\n",
      "bto\n",
      "caro\n",
      "chebi\n",
      "cl\n",
      "doid\n",
      "dron\n",
      "ehdaa2\n",
      "envo\n",
      "foodon\n",
      "gaz\n",
      "go\n",
      "hp\n",
      "mp\n",
      "ncbitaxon\n",
      "pato\n",
      "pco\n",
      "peco\n",
      "po\n",
      "ro\n",
      "symp\n",
      "uberon\n",
      "xco\n"
     ]
    }
   ],
   "source": [
    "ont_issues = dict()\n",
    "for ontology in ontologies:\n",
    "    df_ont = pd.read_json(f'results/xrefs_per_ont/xrefs_{ontology}.json', orient='records')\n",
    "    if len(df_ont) == 0:\n",
    "        ont_issues[ontology] = {\n",
    "            'uri': 0,\n",
    "            'unknown': 0,\n",
    "        }\n",
    "        continue\n",
    "\n",
    "    df_ont = make_po_df(df_ont)\n",
    "    ont_issues[ontology] = {\n",
    "        'uri': len(df_ont[df_ont['po'].isin(po_xrefs_uri)]),\n",
    "        'unknown': len(df_ont[df_ont['po'].isin(po_xrefs_unknown)]),\n",
    "    }\n",
    "    print(ontology)"
   ],
   "metadata": {
    "collapsed": false,
    "pycharm": {
     "name": "#%%\n"
    }
   }
  },
  {
   "cell_type": "code",
   "execution_count": 10,
   "outputs": [
    {
     "data": {
      "text/plain": "             uri  unknown\naeo           10      136\nagro        1266     6710\napollo-sv      2       21\nbfo            0        0\nbto            0     3479\ncaro         380     1800\nchebi          0   313736\ncl          2297    34296\ndoid           1    12824\ndron           0    35148\nehdaa2         5       67\nenvo        3299     1649\nfobi           0        0\nfoodon      8416     6329\ngaz            0    25505\ngo           354   118473\nhp          3520    28386\niao            0        0\nmp         15253    37229\nncbitaxon      0        0\nobi            0        0\npato        3485    17144\npco            9       41\npeco           0      685\npo             3     6547\nro             0       15\nsymp           1      449\nuberon     23845    14627\nuo             0        0\nxco            0      494",
      "text/html": "<div>\n<style scoped>\n    .dataframe tbody tr th:only-of-type {\n        vertical-align: middle;\n    }\n\n    .dataframe tbody tr th {\n        vertical-align: top;\n    }\n\n    .dataframe thead th {\n        text-align: right;\n    }\n</style>\n<table border=\"1\" class=\"dataframe\">\n  <thead>\n    <tr style=\"text-align: right;\">\n      <th></th>\n      <th>uri</th>\n      <th>unknown</th>\n    </tr>\n  </thead>\n  <tbody>\n    <tr>\n      <th>aeo</th>\n      <td>10</td>\n      <td>136</td>\n    </tr>\n    <tr>\n      <th>agro</th>\n      <td>1266</td>\n      <td>6710</td>\n    </tr>\n    <tr>\n      <th>apollo-sv</th>\n      <td>2</td>\n      <td>21</td>\n    </tr>\n    <tr>\n      <th>bfo</th>\n      <td>0</td>\n      <td>0</td>\n    </tr>\n    <tr>\n      <th>bto</th>\n      <td>0</td>\n      <td>3479</td>\n    </tr>\n    <tr>\n      <th>caro</th>\n      <td>380</td>\n      <td>1800</td>\n    </tr>\n    <tr>\n      <th>chebi</th>\n      <td>0</td>\n      <td>313736</td>\n    </tr>\n    <tr>\n      <th>cl</th>\n      <td>2297</td>\n      <td>34296</td>\n    </tr>\n    <tr>\n      <th>doid</th>\n      <td>1</td>\n      <td>12824</td>\n    </tr>\n    <tr>\n      <th>dron</th>\n      <td>0</td>\n      <td>35148</td>\n    </tr>\n    <tr>\n      <th>ehdaa2</th>\n      <td>5</td>\n      <td>67</td>\n    </tr>\n    <tr>\n      <th>envo</th>\n      <td>3299</td>\n      <td>1649</td>\n    </tr>\n    <tr>\n      <th>fobi</th>\n      <td>0</td>\n      <td>0</td>\n    </tr>\n    <tr>\n      <th>foodon</th>\n      <td>8416</td>\n      <td>6329</td>\n    </tr>\n    <tr>\n      <th>gaz</th>\n      <td>0</td>\n      <td>25505</td>\n    </tr>\n    <tr>\n      <th>go</th>\n      <td>354</td>\n      <td>118473</td>\n    </tr>\n    <tr>\n      <th>hp</th>\n      <td>3520</td>\n      <td>28386</td>\n    </tr>\n    <tr>\n      <th>iao</th>\n      <td>0</td>\n      <td>0</td>\n    </tr>\n    <tr>\n      <th>mp</th>\n      <td>15253</td>\n      <td>37229</td>\n    </tr>\n    <tr>\n      <th>ncbitaxon</th>\n      <td>0</td>\n      <td>0</td>\n    </tr>\n    <tr>\n      <th>obi</th>\n      <td>0</td>\n      <td>0</td>\n    </tr>\n    <tr>\n      <th>pato</th>\n      <td>3485</td>\n      <td>17144</td>\n    </tr>\n    <tr>\n      <th>pco</th>\n      <td>9</td>\n      <td>41</td>\n    </tr>\n    <tr>\n      <th>peco</th>\n      <td>0</td>\n      <td>685</td>\n    </tr>\n    <tr>\n      <th>po</th>\n      <td>3</td>\n      <td>6547</td>\n    </tr>\n    <tr>\n      <th>ro</th>\n      <td>0</td>\n      <td>15</td>\n    </tr>\n    <tr>\n      <th>symp</th>\n      <td>1</td>\n      <td>449</td>\n    </tr>\n    <tr>\n      <th>uberon</th>\n      <td>23845</td>\n      <td>14627</td>\n    </tr>\n    <tr>\n      <th>uo</th>\n      <td>0</td>\n      <td>0</td>\n    </tr>\n    <tr>\n      <th>xco</th>\n      <td>0</td>\n      <td>494</td>\n    </tr>\n  </tbody>\n</table>\n</div>"
     },
     "execution_count": 10,
     "metadata": {},
     "output_type": "execute_result"
    }
   ],
   "source": [
    "pd.DataFrame.from_dict(ont_issues, orient='index')\n"
   ],
   "metadata": {
    "collapsed": false,
    "pycharm": {
     "name": "#%%\n"
    }
   }
  }
 ],
 "metadata": {
  "kernelspec": {
   "display_name": "Python 3",
   "language": "python",
   "name": "python3"
  },
  "language_info": {
   "codemirror_mode": {
    "name": "ipython",
    "version": 2
   },
   "file_extension": ".py",
   "mimetype": "text/x-python",
   "name": "python",
   "nbconvert_exporter": "python",
   "pygments_lexer": "ipython2",
   "version": "2.7.6"
  }
 },
 "nbformat": 4,
 "nbformat_minor": 0
}