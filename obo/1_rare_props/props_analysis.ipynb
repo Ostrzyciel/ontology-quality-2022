{
 "cells": [
  {
   "cell_type": "code",
   "execution_count": 1,
   "metadata": {
    "collapsed": true
   },
   "outputs": [],
   "source": [
    "import pandas as pd\n",
    "import numpy as np\n",
    "import matplotlib.pyplot as plt"
   ]
  },
  {
   "cell_type": "code",
   "execution_count": 2,
   "outputs": [],
   "source": [
    "df = pd.read_json('results/props.json')"
   ],
   "metadata": {
    "collapsed": false,
    "pycharm": {
     "name": "#%%\n"
    }
   }
  },
  {
   "cell_type": "code",
   "execution_count": 3,
   "outputs": [],
   "source": [
    "p_usage = df.c.to_numpy()\n",
    "h_bins = np.logspace(np.log10(1), np.log10(p_usage.max()), 11)\n",
    "h_val, _ = np.histogram(p_usage, bins=h_bins)"
   ],
   "metadata": {
    "collapsed": false,
    "pycharm": {
     "name": "#%%\n"
    }
   }
  },
  {
   "cell_type": "code",
   "execution_count": 4,
   "outputs": [
    {
     "data": {
      "text/plain": "<Figure size 432x288 with 1 Axes>",
      "image/png": "[encoded data removed]"
     },
     "metadata": {
      "needs_background": "light"
     },
     "output_type": "display_data"
    }
   ],
   "source": [
    "plt.plot(h_bins[:-1], h_val)\n",
    "plt.xscale('log')\n",
    "plt.yscale('log')"
   ],
   "metadata": {
    "collapsed": false,
    "pycharm": {
     "name": "#%%\n"
    }
   }
  },
  {
   "cell_type": "code",
   "execution_count": 5,
   "outputs": [
    {
     "name": "stdout",
     "output_type": "stream",
     "text": [
      "[[      1      33]\n",
      " [      2      27]\n",
      " [      3      17]\n",
      " [      4      13]\n",
      " [      5      12]\n",
      " [      6       6]\n",
      " [      7       4]\n",
      " [      8       6]\n",
      " [      9       9]\n",
      " [     10      13]\n",
      " [     11       4]\n",
      " [     12       3]\n",
      " [     13       4]\n",
      " [     14       3]\n",
      " [     15       2]\n",
      " [     16       2]\n",
      " [     17       2]\n",
      " [     18       1]\n",
      " [     19       1]\n",
      " [     20       1]\n",
      " [     22       1]\n",
      " [     23       1]\n",
      " [     24       3]\n",
      " [     26       2]\n",
      " [     28       1]\n",
      " [     30       3]\n",
      " [     31       1]\n",
      " [     32       1]\n",
      " [     33       1]\n",
      " [     39       1]\n",
      " [     41       1]\n",
      " [     43       1]\n",
      " [     45       1]\n",
      " [     46       1]\n",
      " [     48       3]\n",
      " [     51       1]\n",
      " [     55       2]\n",
      " [     57       2]\n",
      " [     60       2]\n",
      " [     62       3]\n",
      " [     68       2]\n",
      " [     69       1]\n",
      " [     84       1]\n",
      " [     88       1]\n",
      " [     90       1]\n",
      " [     94       1]\n",
      " [    106       1]\n",
      " [    114       1]\n",
      " [    125       1]\n",
      " [    140       1]\n",
      " [    150       1]\n",
      " [    156       1]\n",
      " [    157       1]\n",
      " [    159       1]\n",
      " [    163       1]\n",
      " [    166       1]\n",
      " [    180       1]\n",
      " [    188       2]\n",
      " [    195       1]\n",
      " [    204       1]\n",
      " [    228       2]\n",
      " [    242       2]\n",
      " [    245       1]\n",
      " [    260       2]\n",
      " [    266       1]\n",
      " [    268       1]\n",
      " [    291       1]\n",
      " [    294       1]\n",
      " [    316       1]\n",
      " [    333       1]\n",
      " [    372       1]\n",
      " [    402       1]\n",
      " [    410       1]\n",
      " [    436       1]\n",
      " [    465       1]\n",
      " [    501       1]\n",
      " [    512       1]\n",
      " [    514       1]\n",
      " [    543       2]\n",
      " [    556       1]\n",
      " [    557       1]\n",
      " [    583       1]\n",
      " [    612       1]\n",
      " [    648       1]\n",
      " [    654       1]\n",
      " [    668       1]\n",
      " [    796       1]\n",
      " [    816       1]\n",
      " [    849       1]\n",
      " [    850       1]\n",
      " [    996       1]\n",
      " [   1037       1]\n",
      " [   1188       1]\n",
      " [   1197       1]\n",
      " [   1246       1]\n",
      " [   1266       1]\n",
      " [   1474       1]\n",
      " [   1536       1]\n",
      " [   1609       1]\n",
      " [   1658       1]\n",
      " [   1674       1]\n",
      " [   1830       1]\n",
      " [   1886       1]\n",
      " [   1931       1]\n",
      " [   1968       1]\n",
      " [   2019       1]\n",
      " [   2470       1]\n",
      " [   3002       1]\n",
      " [   3528       1]\n",
      " [   3650       1]\n",
      " [   5530       1]\n",
      " [   6020       1]\n",
      " [   6994       1]\n",
      " [   7039       1]\n",
      " [   7129       1]\n",
      " [   7175       1]\n",
      " [   8742       1]\n",
      " [   8938       1]\n",
      " [   9762       1]\n",
      " [  10104       1]\n",
      " [  10254       1]\n",
      " [  11024       1]\n",
      " [  13262       1]\n",
      " [  18864       1]\n",
      " [  20550       1]\n",
      " [  21355       1]\n",
      " [  24475       1]\n",
      " [  28173       1]\n",
      " [  28261       1]\n",
      " [  29896       1]\n",
      " [  34640       1]\n",
      " [  34710       1]\n",
      " [  42679       1]\n",
      " [  46838       1]\n",
      " [  49506       1]\n",
      " [  72826       1]\n",
      " [  94207       1]\n",
      " [  99337       1]\n",
      " [ 135540       2]\n",
      " [ 144706       1]\n",
      " [ 145916       1]\n",
      " [ 145989       1]\n",
      " [ 146769       1]\n",
      " [ 147549       1]\n",
      " [ 188817       1]\n",
      " [ 196023       1]\n",
      " [ 243531       1]\n",
      " [ 266955       1]\n",
      " [ 289344       1]\n",
      " [ 448333       1]\n",
      " [ 448513       1]\n",
      " [ 487429       1]\n",
      " [ 495810       1]\n",
      " [ 506354       1]\n",
      " [ 558536       2]\n",
      " [ 950624       1]\n",
      " [1200574       1]\n",
      " [1244240       1]\n",
      " [1357744       3]\n",
      " [2100858       1]\n",
      " [2159485       1]\n",
      " [3333834       1]\n",
      " [3594012       1]\n",
      " [3809415       1]\n",
      " [3971198       1]\n",
      " [6895268       1]\n",
      " [8561502       1]]\n"
     ]
    }
   ],
   "source": [
    "unique, counts = np.unique(p_usage, return_counts=True)\n",
    "print(np.asarray((unique, counts)).T)\n"
   ],
   "metadata": {
    "collapsed": false,
    "pycharm": {
     "name": "#%%\n"
    }
   }
  }
 ],
 "metadata": {
  "kernelspec": {
   "display_name": "Python 3",
   "language": "python",
   "name": "python3"
  },
  "language_info": {
   "codemirror_mode": {
    "name": "ipython",
    "version": 2
   },
   "file_extension": ".py",
   "mimetype": "text/x-python",
   "name": "python",
   "nbconvert_exporter": "python",
   "pygments_lexer": "ipython2",
   "version": "2.7.6"
  }
 },
 "nbformat": 4,
 "nbformat_minor": 0
}