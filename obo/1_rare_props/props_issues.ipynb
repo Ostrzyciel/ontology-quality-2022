{
 "cells": [
  {
   "cell_type": "code",
   "execution_count": 1,
   "metadata": {
    "collapsed": true
   },
   "outputs": [],
   "source": [
    "import json\n",
    "import yaml\n",
    "import pandas as pd\n",
    "\n",
    "from SPARQLWrapper import SPARQLWrapper, JSON"
   ]
  },
  {
   "cell_type": "code",
   "execution_count": 2,
   "outputs": [],
   "source": [
    "with open('results/props.json') as fp:\n",
    "    raw_data = json.load(fp)\n",
    "\n",
    "with open('results/props_review.yaml') as fp:\n",
    "    review_data = yaml.safe_load(fp)"
   ],
   "metadata": {
    "collapsed": false,
    "pycharm": {
     "name": "#%%\n"
    }
   }
  },
  {
   "cell_type": "code",
   "execution_count": 3,
   "outputs": [
    {
     "name": "stdout",
     "output_type": "stream",
     "text": [
      "All props under 11 uses: 140\n"
     ]
    }
   ],
   "source": [
    "all_to_inspect = len([r for r in raw_data if int(r['c']) < 11])\n",
    "print(f'All props under 11 uses: {all_to_inspect}')"
   ],
   "metadata": {
    "collapsed": false,
    "pycharm": {
     "name": "#%%\n"
    }
   }
  },
  {
   "cell_type": "code",
   "execution_count": 4,
   "outputs": [],
   "source": [
    "errors_arr = []\n",
    "for error_id, v in review_data.items():\n",
    "    for prop in v['props']:\n",
    "        errors_arr.append({\n",
    "            'prop': prop['p'],\n",
    "            'error_id': error_id,\n",
    "            'comment': v['comment'],\n",
    "            'uses': int(prop['c']),\n",
    "        })\n",
    "\n",
    "df_err = pd.DataFrame.from_records(errors_arr)"
   ],
   "metadata": {
    "collapsed": false,
    "pycharm": {
     "name": "#%%\n"
    }
   }
  },
  {
   "cell_type": "code",
   "execution_count": 5,
   "outputs": [
    {
     "name": "stdout",
     "output_type": "stream",
     "text": [
      "Erroneous props in total: 74\n",
      "Unique errors: 278\n"
     ]
    }
   ],
   "source": [
    "print(f'Erroneous props in total: {len(df_err)}')\n",
    "print(f'Unique errors: {df_err[\"uses\"].sum()}')"
   ],
   "metadata": {
    "collapsed": false,
    "pycharm": {
     "name": "#%%\n"
    }
   }
  },
  {
   "cell_type": "code",
   "execution_count": 6,
   "outputs": [
    {
     "data": {
      "text/plain": "                     uses     \n                    count  sum\nerror_id                      \nbadPrefixFobi           4    5\nbrokenProtocol          1    1\nhasDate                 1    8\nhasVersion              1   10\nnotAnUri                1    9\noboInOwlUndefined      51  212\nuriAppendedToPrefix     4   15\nwrongPrefixOio          3    9\nwrongPrefixOther        6    7\nxmlSchema               2    2",
      "text/html": "<div>\n<style scoped>\n    .dataframe tbody tr th:only-of-type {\n        vertical-align: middle;\n    }\n\n    .dataframe tbody tr th {\n        vertical-align: top;\n    }\n\n    .dataframe thead tr th {\n        text-align: left;\n    }\n\n    .dataframe thead tr:last-of-type th {\n        text-align: right;\n    }\n</style>\n<table border=\"1\" class=\"dataframe\">\n  <thead>\n    <tr>\n      <th></th>\n      <th colspan=\"2\" halign=\"left\">uses</th>\n    </tr>\n    <tr>\n      <th></th>\n      <th>count</th>\n      <th>sum</th>\n    </tr>\n    <tr>\n      <th>error_id</th>\n      <th></th>\n      <th></th>\n    </tr>\n  </thead>\n  <tbody>\n    <tr>\n      <th>badPrefixFobi</th>\n      <td>4</td>\n      <td>5</td>\n    </tr>\n    <tr>\n      <th>brokenProtocol</th>\n      <td>1</td>\n      <td>1</td>\n    </tr>\n    <tr>\n      <th>hasDate</th>\n      <td>1</td>\n      <td>8</td>\n    </tr>\n    <tr>\n      <th>hasVersion</th>\n      <td>1</td>\n      <td>10</td>\n    </tr>\n    <tr>\n      <th>notAnUri</th>\n      <td>1</td>\n      <td>9</td>\n    </tr>\n    <tr>\n      <th>oboInOwlUndefined</th>\n      <td>51</td>\n      <td>212</td>\n    </tr>\n    <tr>\n      <th>uriAppendedToPrefix</th>\n      <td>4</td>\n      <td>15</td>\n    </tr>\n    <tr>\n      <th>wrongPrefixOio</th>\n      <td>3</td>\n      <td>9</td>\n    </tr>\n    <tr>\n      <th>wrongPrefixOther</th>\n      <td>6</td>\n      <td>7</td>\n    </tr>\n    <tr>\n      <th>xmlSchema</th>\n      <td>2</td>\n      <td>2</td>\n    </tr>\n  </tbody>\n</table>\n</div>"
     },
     "execution_count": 6,
     "metadata": {},
     "output_type": "execute_result"
    }
   ],
   "source": [
    "df_err[['error_id', 'uses']]\\\n",
    "    .groupby('error_id')\\\n",
    "    .agg(['count', 'sum'])#.sort_values(by='count', ascending=False)"
   ],
   "metadata": {
    "collapsed": false,
    "pycharm": {
     "name": "#%%\n"
    }
   }
  },
  {
   "cell_type": "markdown",
   "source": [
    "Query the ontologies in sequence to find the issue source"
   ],
   "metadata": {
    "collapsed": false,
    "pycharm": {
     "name": "#%% md\n"
    }
   }
  },
  {
   "cell_type": "code",
   "execution_count": 7,
   "outputs": [],
   "source": [
    "with open('../ontos.txt') as fp:\n",
    "    ontologies = [l.strip() for l in fp.readlines()]\n",
    "\n",
    "endpoints = dict()\n",
    "\n",
    "for ontology in ontologies:\n",
    "    e = SPARQLWrapper(f'http://127.0.0.1:9999/blazegraph/namespace/obo-{ontology}/sparql')\n",
    "    e.setRequestMethod('postdirectly')\n",
    "    e.setMethod('POST')\n",
    "    e.setReturnFormat(JSON)\n",
    "    endpoints[ontology] = e"
   ],
   "metadata": {
    "collapsed": false,
    "pycharm": {
     "name": "#%%\n"
    }
   }
  },
  {
   "cell_type": "code",
   "execution_count": 8,
   "outputs": [],
   "source": [
    "df_err_ont = df_err.copy()\n",
    "df_err_ont['found_errors'] = 0\n",
    "\n",
    "for ont in ontologies:\n",
    "    df_err_ont[ont] = 0"
   ],
   "metadata": {
    "collapsed": false,
    "pycharm": {
     "name": "#%%\n"
    }
   }
  },
  {
   "cell_type": "code",
   "execution_count": 9,
   "outputs": [],
   "source": [
    "base_query = 'SELECT (COUNT(*) as ?count) WHERE { ?s <p> ?o }'\n",
    "\n",
    "for ix, r in df_err_ont.iterrows():\n",
    "    q = base_query.replace('<p>', f'<{r[\"prop\"]}>')\n",
    "    row_count = 0\n",
    "\n",
    "    for ont, e in endpoints.items():\n",
    "        e.setQuery(q)\n",
    "        ont_err_count = int(e.query().convert()['results']['bindings'][0]['count']['value'])\n",
    "        df_err_ont.loc[ix, ont] = ont_err_count\n",
    "        row_count += ont_err_count\n",
    "\n",
    "    df_err_ont.loc[ix, 'found_errors'] = row_count"
   ],
   "metadata": {
    "collapsed": false,
    "pycharm": {
     "name": "#%%\n"
    }
   }
  },
  {
   "cell_type": "markdown",
   "source": [
    "Should yield an empty set if we did everything right..."
   ],
   "metadata": {
    "collapsed": false,
    "pycharm": {
     "name": "#%% md\n"
    }
   }
  },
  {
   "cell_type": "code",
   "execution_count": 10,
   "outputs": [
    {
     "data": {
      "text/plain": "Empty DataFrame\nColumns: [prop, error_id, comment, uses, found_errors, aeo, agro, apollo-sv, bfo, bto, caro, chebi, cl, doid, dron, ehdaa2, envo, fobi, foodon, gaz, go, hp, iao, mp, ncbitaxon, obi, pato, pco, peco, po, ro, symp, uberon, uo, xco]\nIndex: []\n\n[0 rows x 35 columns]",
      "text/html": "<div>\n<style scoped>\n    .dataframe tbody tr th:only-of-type {\n        vertical-align: middle;\n    }\n\n    .dataframe tbody tr th {\n        vertical-align: top;\n    }\n\n    .dataframe thead th {\n        text-align: right;\n    }\n</style>\n<table border=\"1\" class=\"dataframe\">\n  <thead>\n    <tr style=\"text-align: right;\">\n      <th></th>\n      <th>prop</th>\n      <th>error_id</th>\n      <th>comment</th>\n      <th>uses</th>\n      <th>found_errors</th>\n      <th>aeo</th>\n      <th>agro</th>\n      <th>apollo-sv</th>\n      <th>bfo</th>\n      <th>bto</th>\n      <th>...</th>\n      <th>obi</th>\n      <th>pato</th>\n      <th>pco</th>\n      <th>peco</th>\n      <th>po</th>\n      <th>ro</th>\n      <th>symp</th>\n      <th>uberon</th>\n      <th>uo</th>\n      <th>xco</th>\n    </tr>\n  </thead>\n  <tbody>\n  </tbody>\n</table>\n<p>0 rows × 35 columns</p>\n</div>"
     },
     "execution_count": 10,
     "metadata": {},
     "output_type": "execute_result"
    }
   ],
   "source": [
    "df_err_ont[df_err_ont.uses > df_err_ont.found_errors]\n",
    "# it does!"
   ],
   "metadata": {
    "collapsed": false,
    "pycharm": {
     "name": "#%%\n"
    }
   }
  },
  {
   "cell_type": "markdown",
   "source": [
    "Errors per ontology – the total will be higher than the number of unique errors due to partial imports"
   ],
   "metadata": {
    "collapsed": false,
    "pycharm": {
     "name": "#%% md\n"
    }
   }
  },
  {
   "cell_type": "code",
   "execution_count": 11,
   "outputs": [
    {
     "data": {
      "text/plain": "aeo           4\nagro         18\napollo-sv     4\nbfo           0\nbto           3\ncaro          1\nchebi        12\ncl           38\ndoid          2\ndron          9\nehdaa2        3\nenvo          3\nfobi          5\nfoodon        0\ngaz           0\ngo            1\nhp           45\niao           0\nmp           47\nncbitaxon     0\nobi           0\npato         13\npco           3\npeco          2\npo            3\nro            2\nsymp          2\nuberon       87\nuo            9\nxco           3\ndtype: int64"
     },
     "execution_count": 11,
     "metadata": {},
     "output_type": "execute_result"
    }
   ],
   "source": [
    "df_err_ont[ontologies].sum()"
   ],
   "metadata": {
    "collapsed": false,
    "pycharm": {
     "name": "#%%\n"
    }
   }
  }
 ],
 "metadata": {
  "kernelspec": {
   "display_name": "Python 3",
   "language": "python",
   "name": "python3"
  },
  "language_info": {
   "codemirror_mode": {
    "name": "ipython",
    "version": 2
   },
   "file_extension": ".py",
   "mimetype": "text/x-python",
   "name": "python",
   "nbconvert_exporter": "python",
   "pygments_lexer": "ipython2",
   "version": "2.7.6"
  }
 },
 "nbformat": 4,
 "nbformat_minor": 0
}