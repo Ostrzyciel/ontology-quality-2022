{
 "cells": [
  {
   "cell_type": "code",
   "execution_count": 1,
   "metadata": {
    "collapsed": true
   },
   "outputs": [],
   "source": [
    "import json\n",
    "import yaml\n",
    "import pandas as pd\n",
    "\n",
    "from SPARQLWrapper import SPARQLWrapper, JSON"
   ]
  },
  {
   "cell_type": "code",
   "execution_count": 2,
   "outputs": [],
   "source": [
    "with open('../ontos.txt') as fp:\n",
    "    ontologies = [l.strip() for l in fp.readlines()]\n",
    "\n",
    "# All ontologies wildcard\n",
    "ontologies.append('ontos')\n",
    "\n",
    "endpoints = dict()\n",
    "\n",
    "for ontology in ontologies:\n",
    "    e = SPARQLWrapper(f'http://127.0.0.1:9999/blazegraph/namespace/obo-{ontology}/sparql')\n",
    "    e.setRequestMethod('postdirectly')\n",
    "    e.setMethod('POST')\n",
    "    e.setReturnFormat(JSON)\n",
    "    endpoints[ontology] = e"
   ],
   "metadata": {
    "collapsed": false,
    "pycharm": {
     "name": "#%%\n"
    }
   }
  },
  {
   "cell_type": "code",
   "execution_count": 3,
   "outputs": [
    {
     "name": "stdout",
     "output_type": "stream",
     "text": [
      "aeo\n",
      "agro\n",
      "apollo-sv\n",
      "bfo\n",
      "bto\n",
      "caro\n",
      "chebi\n",
      "cl\n",
      "doid\n",
      "dron\n",
      "ehdaa2\n",
      "envo\n",
      "fobi\n",
      "foodon\n",
      "gaz\n",
      "go\n",
      "hp\n",
      "iao\n",
      "mp\n",
      "ncbitaxon\n",
      "obi\n",
      "pato\n",
      "pco\n",
      "peco\n",
      "po\n",
      "ro\n",
      "symp\n",
      "uberon\n",
      "uo\n",
      "xco\n",
      "ontos\n"
     ]
    }
   ],
   "source": [
    "with open('props_o_types.rq') as fp:\n",
    "    otypes_query = fp.read()\n",
    "\n",
    "ont_results = dict()\n",
    "\n",
    "for ontology, e in list(endpoints.items()):\n",
    "    e.setQuery(otypes_query)\n",
    "    data = e.query().convert()['results']['bindings']\n",
    "    ont_results[ontology] = [\n",
    "        {\n",
    "            'prop': r['p']['value'],\n",
    "            'count': int(r['count']['value']),\n",
    "            'uris': int(r['uris']['value']),\n",
    "            'blanks': int(r['blanks']['value']),\n",
    "            'literals': int(r['literals']['value']),\n",
    "            'range': r['range1']['value'] if 'range1' in r else '',\n",
    "            'type': r['type1']['value'] if 'type1' in r else '',\n",
    "        }\n",
    "        for r in data\n",
    "    ]\n",
    "    print(ontology)"
   ],
   "metadata": {
    "collapsed": false,
    "pycharm": {
     "name": "#%%\n"
    }
   }
  },
  {
   "cell_type": "code",
   "execution_count": 9,
   "outputs": [],
   "source": [
    "with open('results/otypes.json', 'w') as fp:\n",
    "    json.dump(ont_results, fp, indent=4)"
   ],
   "metadata": {
    "collapsed": false,
    "pycharm": {
     "name": "#%%\n"
    }
   }
  },
  {
   "cell_type": "code",
   "execution_count": 5,
   "outputs": [],
   "source": [
    "ont_dfs = {ontology: pd.DataFrame.from_records(data).set_index('prop') for ontology, data in ont_results.items()}\n",
    "\n",
    "def calc_errors(r):\n",
    "    return min(r['uris'] + r['blanks'], r['literals']), max(r['uris'] + r['blanks'], r['literals'])\n",
    "\n",
    "for df in ont_dfs.values():\n",
    "    df['errors_min'], df['errors_max'] = zip(*df.apply(calc_errors, axis=1))"
   ],
   "metadata": {
    "collapsed": false,
    "pycharm": {
     "name": "#%%\n"
    }
   }
  },
  {
   "cell_type": "code",
   "execution_count": 6,
   "outputs": [],
   "source": [
    "df_all = ont_dfs['ontos'].copy()\n",
    "df_all['prop'] = df_all.index\n",
    "\n",
    "for ont, df in ont_dfs.items():\n",
    "    if ont == 'ontos':\n",
    "        continue\n",
    "    df_all[[f'{ont}_uris', f'{ont}_blanks', f'{ont}_literals']] = df[['uris', 'blanks', 'literals']]"
   ],
   "metadata": {
    "collapsed": false,
    "pycharm": {
     "name": "#%%\n"
    }
   }
  },
  {
   "cell_type": "code",
   "execution_count": 7,
   "outputs": [],
   "source": [
    "with open('results/otypes_review.yaml') as fp:\n",
    "    review = yaml.safe_load(fp)\n",
    "\n",
    "df_review = pd.DataFrame.from_records(review)\n",
    "df_review = df_review.join(df_all, on='prop', lsuffix='1')"
   ],
   "metadata": {
    "collapsed": false,
    "pycharm": {
     "name": "#%%\n"
    }
   }
  },
  {
   "cell_type": "code",
   "execution_count": 11,
   "outputs": [],
   "source": [
    "df_review.to_json('results/otypes_invalid.json', indent=4, orient='index')"
   ],
   "metadata": {
    "collapsed": false,
    "pycharm": {
     "name": "#%%\n"
    }
   }
  }
 ],
 "metadata": {
  "kernelspec": {
   "display_name": "Python 3",
   "language": "python",
   "name": "python3"
  },
  "language_info": {
   "codemirror_mode": {
    "name": "ipython",
    "version": 2
   },
   "file_extension": ".py",
   "mimetype": "text/x-python",
   "name": "python",
   "nbconvert_exporter": "python",
   "pygments_lexer": "ipython2",
   "version": "2.7.6"
  }
 },
 "nbformat": 4,
 "nbformat_minor": 0
}