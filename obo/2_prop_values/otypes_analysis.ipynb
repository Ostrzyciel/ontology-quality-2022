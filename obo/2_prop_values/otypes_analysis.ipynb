{
 "cells": [
  {
   "cell_type": "code",
   "execution_count": 1,
   "metadata": {
    "collapsed": true
   },
   "outputs": [],
   "source": [
    "import pandas as pd\n",
    "\n",
    "from SPARQLWrapper import SPARQLWrapper, JSON"
   ]
  },
  {
   "cell_type": "code",
   "execution_count": 2,
   "outputs": [],
   "source": [
    "q_ids = [1, 2, 5, 6, 7, 8, 9, 10, 11, 12, 13, 14, 15, 16, 17, 18, 19, 20, 21, 22, 23, 24, 25, 26, 27]"
   ],
   "metadata": {
    "collapsed": false,
    "pycharm": {
     "name": "#%%\n"
    }
   }
  },
  {
   "cell_type": "code",
   "execution_count": 3,
   "outputs": [],
   "source": [
    "queries = dict()\n",
    "for q_id in q_ids:\n",
    "    with open(f'sparql_otype/{q_id}.rq') as fp:\n",
    "        queries[q_id] = fp.read()"
   ],
   "metadata": {
    "collapsed": false,
    "pycharm": {
     "name": "#%%\n"
    }
   }
  },
  {
   "cell_type": "code",
   "execution_count": 4,
   "outputs": [],
   "source": [
    "with open('../ontos.txt') as fp:\n",
    "    ontologies = [l.strip() for l in fp.readlines()]\n",
    "\n",
    "# All ontologies wildcard\n",
    "ontologies.append('ontos')\n",
    "\n",
    "endpoints = dict()\n",
    "\n",
    "for ontology in ontologies:\n",
    "    e = SPARQLWrapper(f'http://127.0.0.1:9999/blazegraph/namespace/obo-{ontology}/sparql')\n",
    "    e.setRequestMethod('postdirectly')\n",
    "    e.setMethod('POST')\n",
    "    e.setReturnFormat(JSON)\n",
    "    endpoints[ontology] = e"
   ],
   "metadata": {
    "collapsed": false,
    "pycharm": {
     "name": "#%%\n"
    }
   }
  },
  {
   "cell_type": "code",
   "execution_count": 5,
   "outputs": [],
   "source": [
    "q_results = dict()\n",
    "\n",
    "for q_id, query in list(queries.items()):\n",
    "    onto_results = dict()\n",
    "    for ontology, e in endpoints.items():\n",
    "        e.setQuery(query)\n",
    "        onto_results[ontology] = len(e.query().convert()['results']['bindings'])\n",
    "\n",
    "    q_results[q_id] = onto_results"
   ],
   "metadata": {
    "collapsed": false,
    "pycharm": {
     "name": "#%%\n"
    }
   }
  },
  {
   "cell_type": "code",
   "execution_count": 6,
   "outputs": [],
   "source": [
    "df_results = pd.DataFrame.from_dict(q_results, orient='index')"
   ],
   "metadata": {
    "collapsed": false,
    "pycharm": {
     "name": "#%%\n"
    }
   }
  },
  {
   "cell_type": "code",
   "execution_count": 7,
   "outputs": [
    {
     "data": {
      "text/plain": "aeo              0\nagro            51\napollo-sv      308\nbfo              0\nbto              0\ncaro             6\nchebi            0\ncl             236\ndoid             2\ndron             6\nehdaa2           0\nenvo          1612\nfobi             0\nfoodon        5702\ngaz              6\ngo            2536\nhp             313\niao             22\nmp             388\nncbitaxon        0\nobi           1295\npato            96\npco             19\npeco             0\npo              24\nro              35\nsymp             0\nuberon         375\nuo               0\nxco              0\nontos        12296\ndtype: int64"
     },
     "execution_count": 7,
     "metadata": {},
     "output_type": "execute_result"
    }
   ],
   "source": [
    "by_ontology = df_results.agg('sum')\n",
    "by_ontology"
   ],
   "metadata": {
    "collapsed": false,
    "pycharm": {
     "name": "#%%\n"
    }
   }
  },
  {
   "cell_type": "code",
   "execution_count": 8,
   "outputs": [
    {
     "data": {
      "text/plain": "20"
     },
     "execution_count": 8,
     "metadata": {},
     "output_type": "execute_result"
    }
   ],
   "source": [
    "len(by_ontology[by_ontology > 0])"
   ],
   "metadata": {
    "collapsed": false,
    "pycharm": {
     "name": "#%%\n"
    }
   }
  },
  {
   "cell_type": "code",
   "execution_count": 9,
   "outputs": [
    {
     "data": {
      "text/plain": "1     1416\n2     1252\n5     5811\n6      896\n7     2695\n8       33\n9       30\n10      14\n11      17\n12       3\n13      11\n14      83\n15       4\n16       4\n17       4\n18       9\n19       3\n20       3\n21       2\n22       1\n23       1\n24       1\n25       1\n26       1\n27       1\nName: ontos, dtype: int64"
     },
     "execution_count": 9,
     "metadata": {},
     "output_type": "execute_result"
    }
   ],
   "source": [
    "df_results['ontos']"
   ],
   "metadata": {
    "collapsed": false,
    "pycharm": {
     "name": "#%%\n"
    }
   }
  },
  {
   "cell_type": "code",
   "execution_count": 10,
   "outputs": [
    {
     "data": {
      "text/plain": "12296"
     },
     "execution_count": 10,
     "metadata": {},
     "output_type": "execute_result"
    }
   ],
   "source": [
    "df_results['ontos'].sum()"
   ],
   "metadata": {
    "collapsed": false,
    "pycharm": {
     "name": "#%%\n"
    }
   }
  }
 ],
 "metadata": {
  "kernelspec": {
   "display_name": "Python 3",
   "language": "python",
   "name": "python3"
  },
  "language_info": {
   "codemirror_mode": {
    "name": "ipython",
    "version": 2
   },
   "file_extension": ".py",
   "mimetype": "text/x-python",
   "name": "python",
   "nbconvert_exporter": "python",
   "pygments_lexer": "ipython2",
   "version": "2.7.6"
  }
 },
 "nbformat": 4,
 "nbformat_minor": 0
}